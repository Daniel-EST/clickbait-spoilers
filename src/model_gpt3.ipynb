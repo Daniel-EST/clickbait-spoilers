{
 "cells": [
  {
   "attachments": {},
   "cell_type": "markdown",
   "metadata": {},
   "source": [
    "# Clickbait Spoiler Generation using GPT-3"
   ]
  },
  {
   "attachments": {},
   "cell_type": "markdown",
   "metadata": {},
   "source": [
    "Preparing the data using a custom function and validating it using the openai preparation tool"
   ]
  },
  {
   "cell_type": "code",
   "execution_count": null,
   "metadata": {},
   "outputs": [],
   "source": [
    "from prepare_data import prepare"
   ]
  },
  {
   "cell_type": "code",
   "execution_count": null,
   "metadata": {},
   "outputs": [],
   "source": [
    "prepare(input=\"../data/train.jsonl\", output=\"../data/parsed/train.jsonl\", test=False)\n",
    "!openai tools fine_tunes.prepare_data --file ../data/parsed/train.jsonl --quiet"
   ]
  },
  {
   "cell_type": "code",
   "execution_count": null,
   "metadata": {},
   "outputs": [],
   "source": [
    "prepare(input=\"../data/validation.jsonl\", output=\"../data/parsed/validation.jsonl\", test=True, test_split=0.75)\n",
    "!openai tools fine_tunes.prepare_data --file ../data/parsed/validation.jsonl --quiet"
   ]
  },
  {
   "cell_type": "code",
   "execution_count": null,
   "metadata": {},
   "outputs": [],
   "source": [
    "!openai tools fine_tunes.prepare_data --file ../data/parsed/test.jsonl --quiet"
   ]
  },
  {
   "attachments": {},
   "cell_type": "markdown",
   "metadata": {},
   "source": [
    "### Performing the fine-tune operation"
   ]
  },
  {
   "cell_type": "code",
   "execution_count": null,
   "metadata": {},
   "outputs": [],
   "source": [
    "!openai api fine_tunes.create --training_file ../data/parsed/train.jsonl --validation_file ../data/parsed/validation.jsonl --n_epochs 6  --model ada"
   ]
  },
  {
   "cell_type": "code",
   "execution_count": null,
   "metadata": {},
   "outputs": [],
   "source": [
    "# !openai api fine_tunes.follow --id "
   ]
  },
  {
   "cell_type": "code",
   "execution_count": null,
   "metadata": {},
   "outputs": [],
   "source": [
    "# !openai api fine_tunes.cancel --id  # Cancel if it gets expensive hehe"
   ]
  },
  {
   "attachments": {},
   "cell_type": "markdown",
   "metadata": {},
   "source": [
    "#### Testing"
   ]
  },
  {
   "cell_type": "code",
   "execution_count": null,
   "metadata": {},
   "outputs": [],
   "source": [
    "import openai"
   ]
  },
  {
   "cell_type": "code",
   "execution_count": null,
   "metadata": {},
   "outputs": [],
   "source": [
    "clickbait = \"\"\"CLICKBAIT:\\n\\nMom Is Pregnant With Twins. But 25 Weeks Later, Doctors Drop THIS Bombshell About Her Babies\\n\\n\\nARTICLE:\\n\\nEdwyna and TJ were so excited to start a family, but they had no idea it would lead them on journey of incredible odds. During an early ultrasound, the couple was even more thrilled to discover it was twins. Edwyna herself is a triplet, and one of her sisters already had twins. She understood firsthand the incredible bond between multiples.\\nThings were still looking normal during Edwyna’s second trimester. But she was blissfully unaware of the heartbreak soon to come. Because just after she proudly posed for a pregnancy photo, Edwyna was rushed to the hospital to stop her premature labor at just 25 weeks. It was unlikely her twins would survive this early on in the pregnancy.\\nSophie and Riley were born on October 2, 2012 nearly four months early. The babies were immediately whisked away and the twins themselves were separated. It took five hours to stabilize them, and both Edwyna and TJ were stunned they were borht still alive. Sophie and Riley were considered \\\"micro-preemies\\\" and suffered a slew of health issues, like chronic lung disease and holes in their hearts.\\nRiley was especially fragile, and was dealt one terrifying blow after another. This tiny little baby underwent four surgeries and faced a blocked intestine and bleeding ulcer. TJ whispered into his son’s ear, telling him it was okay to let go if he needed to. I can’t even begin to imagine.\\n\\n###\\n\\n\"\"\""
   ]
  },
  {
   "cell_type": "code",
   "execution_count": null,
   "metadata": {},
   "outputs": [],
   "source": [
    "expected = \"\"\" Sophie and Riley were considered \\\"micro-preemies\\\" and suffered a slew of health issues, like chronic lung disease and holes in their hearts.\"\"\""
   ]
  },
  {
   "cell_type": "code",
   "execution_count": null,
   "metadata": {},
   "outputs": [],
   "source": [
    "result = openai.Completion.create(model=\"ada:ft-personal-2023-05-03-22-37-23\", prompt=clickbait, temperature=0.07, max_tokens=128, presence_penalty=0.0, frequency_penalty=0.0, stop=[\" END\"])\n",
    "prediction = result.choices[0].text"
   ]
  },
  {
   "cell_type": "code",
   "execution_count": null,
   "metadata": {},
   "outputs": [],
   "source": [
    "import evaluate\n",
    "meteor = evaluate.load(\"meteor\")"
   ]
  },
  {
   "cell_type": "code",
   "execution_count": null,
   "metadata": {},
   "outputs": [],
   "source": [
    "print(expected)\n",
    "print(prediction)\n",
    "\n",
    "\n",
    "print(meteor.compute(predictions=[expected.strip()], references=[]))"
   ]
  }
 ],
 "metadata": {
  "kernelspec": {
   "display_name": ".venv",
   "language": "python",
   "name": "python3"
  },
  "language_info": {
   "codemirror_mode": {
    "name": "ipython",
    "version": 3
   },
   "file_extension": ".py",
   "mimetype": "text/x-python",
   "name": "python",
   "nbconvert_exporter": "python",
   "pygments_lexer": "ipython3",
   "version": "3.11.3"
  },
  "orig_nbformat": 4
 },
 "nbformat": 4,
 "nbformat_minor": 2
}
