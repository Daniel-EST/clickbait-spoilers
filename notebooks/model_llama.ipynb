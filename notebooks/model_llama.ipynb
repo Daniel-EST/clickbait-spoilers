{
 "cells": [
  {
   "attachments": {},
   "cell_type": "markdown",
   "metadata": {},
   "source": [
    "# Clickbait Spoiler Generation using LLaMA"
   ]
  },
  {
   "cell_type": "code",
   "execution_count": null,
   "metadata": {},
   "outputs": [],
   "source": [
    "# This is necessary to fix the imports\n",
    "import os\n",
    "import sys\n",
    "sys.path.append(os.path.abspath(os.path.join('../src')))"
   ]
  },
  {
   "cell_type": "code",
   "execution_count": null,
   "metadata": {},
   "outputs": [],
   "source": [
    "BATCH_SIZE = 3\n",
    "N_EPOCHS = 5\n",
    "LEARNING_RATE = 2e-5\n",
    "MODEL_CHECKPOINT = \"decapoda-research/llama-7b-hf\"\n",
    "SAVE_CHECKPOINT_PATH = \"../src/models/llama/clickbait\""
   ]
  },
  {
   "cell_type": "code",
   "execution_count": null,
   "metadata": {},
   "outputs": [],
   "source": [
    "!python ../src/models/llama/alpaca-lora/finetune.py \\\n",
    "    --base_model $MODEL_CHECKPOINT \\\n",
    "    --data_path \"../data/parsed/llama/clickbait_data.py\" \\\n",
    "    --output_dir $SAVE_CHECKPOINT_PATH \\\n",
    "    --batch_size $BATCH_SIZE \\\n",
    "    --num_epochs $N_EPOCHS \\\n",
    "    --learning_rate $LEARNING_RATE \\\n",
    "    --cutoff_len 512"
   ]
  },
  {
   "cell_type": "code",
   "execution_count": null,
   "metadata": {},
   "outputs": [],
   "source": [
    "!python ../src/models/llama/alpaca-lora/generate.py \\\n",
    "    --load_8bit \\\n",
    "    --base_model $MODEL_CHECKPOINT  \\\n",
    "    --lora_weights $SAVE_CHECKPOINT_PATH"
   ]
  }
 ],
 "metadata": {
  "kernelspec": {
   "display_name": "base",
   "language": "python",
   "name": "python3"
  },
  "language_info": {
   "codemirror_mode": {
    "name": "ipython",
    "version": 3
   },
   "file_extension": ".py",
   "mimetype": "text/x-python",
   "name": "python",
   "nbconvert_exporter": "python",
   "pygments_lexer": "ipython3",
   "version": "3.11.3"
  },
  "orig_nbformat": 4
 },
 "nbformat": 4,
 "nbformat_minor": 2
}
