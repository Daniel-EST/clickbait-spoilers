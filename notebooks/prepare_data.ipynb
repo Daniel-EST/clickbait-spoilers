{
 "cells": [
  {
   "attachments": {},
   "cell_type": "markdown",
   "metadata": {},
   "source": [
    "# Preparing the data"
   ]
  },
  {
   "cell_type": "code",
   "execution_count": null,
   "metadata": {},
   "outputs": [],
   "source": [
    "# This is necessary to fix the imports\n",
    "import os\n",
    "import sys\n",
    "sys.path.append(os.path.abspath(os.path.join('../src')))"
   ]
  },
  {
   "cell_type": "code",
   "execution_count": null,
   "metadata": {},
   "outputs": [],
   "source": [
    "ORIGINAL_TRAIN_DATA = \"../data/train.jsonl\"\n",
    "ORIGINAL_VALIDATION_DATA = \"../data/validation.jsonl\"\n",
    "\n",
    "SPLIT_FOLDER = \"../data/splitted\"\n",
    "\n",
    "TRAIN_DATA = f\"{SPLIT_FOLDER}/train.jsonl\"\n",
    "VALIDATION_DATA = f\"{SPLIT_FOLDER}/validation.jsonl\"\n",
    "TEST_DATA = f\"{SPLIT_FOLDER}/test.jsonl\""
   ]
  },
  {
   "attachments": {},
   "cell_type": "markdown",
   "metadata": {},
   "source": [
    "### Split data"
   ]
  },
  {
   "attachments": {},
   "cell_type": "markdown",
   "metadata": {},
   "source": [
    "Preparing the data using a custom function and validating it using the openai preparation tool"
   ]
  },
  {
   "cell_type": "code",
   "execution_count": null,
   "metadata": {},
   "outputs": [],
   "source": [
    "from split_data import split_data"
   ]
  },
  {
   "cell_type": "code",
   "execution_count": null,
   "metadata": {},
   "outputs": [],
   "source": [
    "split_data(input=ORIGINAL_VALIDATION_DATA, output=SPLIT_FOLDER, seed=1337)"
   ]
  },
  {
   "cell_type": "code",
   "execution_count": null,
   "metadata": {},
   "outputs": [],
   "source": [
    "import shutil\n",
    "shutil.copyfile(ORIGINAL_TRAIN_DATA, TRAIN_DATA)"
   ]
  },
  {
   "attachments": {},
   "cell_type": "markdown",
   "metadata": {},
   "source": [
    "### Prepare data for OpenAI"
   ]
  },
  {
   "cell_type": "code",
   "execution_count": null,
   "metadata": {},
   "outputs": [],
   "source": [
    "OPENAI_MODEL = \"ada\"\n",
    "OPENAI_TRAIN_DATA = \"../data/parsed/openai/train.jsonl\"\n",
    "OPENAI_TEST_DATA = \"../data/parsed/openai/test.jsonl\"\n",
    "OPENAI_VALIDATION_DATA = \"../data/parsed/openai/validation.jsonl\""
   ]
  },
  {
   "cell_type": "code",
   "execution_count": null,
   "metadata": {},
   "outputs": [],
   "source": [
    "import prepare_data_openai"
   ]
  },
  {
   "cell_type": "code",
   "execution_count": null,
   "metadata": {},
   "outputs": [],
   "source": [
    "prepare_data_openai.prepare(input=TRAIN_DATA, output=OPENAI_TRAIN_DATA, model=OPENAI_MODEL)\n",
    "# !openai tools fine_tunes.prepare_data --file $OPENAI_TRAIN_DATA --quiet"
   ]
  },
  {
   "cell_type": "code",
   "execution_count": null,
   "metadata": {},
   "outputs": [],
   "source": [
    "prepare_data_openai.prepare(input=TEST_DATA, output=OPENAI_TEST_DATA, model=OPENAI_MODEL)\n",
    "# !openai tools fine_tunes.prepare_data --file $OPENAI_TEST_DATA --quiet"
   ]
  },
  {
   "cell_type": "code",
   "execution_count": null,
   "metadata": {},
   "outputs": [],
   "source": [
    "prepare_data_openai.prepare(input=VALIDATION_DATA, output=OPENAI_VALIDATION_DATA, model=OPENAI_MODEL)\n",
    "# !openai tools fine_tunes.prepare_data --file $OPENAI_VALIDATION_DATA --quiet"
   ]
  },
  {
   "attachments": {},
   "cell_type": "markdown",
   "metadata": {},
   "source": [
    "### Prepare data for BERT"
   ]
  },
  {
   "cell_type": "code",
   "execution_count": null,
   "metadata": {},
   "outputs": [],
   "source": [
    "BERT_TRAIN_DATA = \"../data/parsed/bert/train.jsonl\"\n",
    "BERT_TEST_DATA = \"../data/parsed/bert/test.jsonl\"\n",
    "BERT_VALIDATION_DATA = \"../data/parsed/bert/validation.jsonl\""
   ]
  },
  {
   "cell_type": "code",
   "execution_count": null,
   "metadata": {},
   "outputs": [],
   "source": [
    "import prepare_data_bert"
   ]
  },
  {
   "cell_type": "code",
   "execution_count": null,
   "metadata": {},
   "outputs": [],
   "source": [
    "prepare_data_bert.prepare(input=TRAIN_DATA, output=BERT_TRAIN_DATA)"
   ]
  },
  {
   "cell_type": "code",
   "execution_count": null,
   "metadata": {},
   "outputs": [],
   "source": [
    "prepare_data_bert.prepare(input=TEST_DATA, output=BERT_TEST_DATA)"
   ]
  },
  {
   "cell_type": "code",
   "execution_count": null,
   "metadata": {},
   "outputs": [],
   "source": [
    "prepare_data_bert.prepare(input=VALIDATION_DATA, output=BERT_VALIDATION_DATA)"
   ]
  },
  {
   "cell_type": "code",
   "execution_count": null,
   "metadata": {},
   "outputs": [],
   "source": []
  }
 ],
 "metadata": {
  "kernelspec": {
   "display_name": ".venv",
   "language": "python",
   "name": "python3"
  },
  "language_info": {
   "codemirror_mode": {
    "name": "ipython",
    "version": 3
   },
   "file_extension": ".py",
   "mimetype": "text/x-python",
   "name": "python",
   "nbconvert_exporter": "python",
   "pygments_lexer": "ipython3",
   "version": "3.11.3"
  },
  "orig_nbformat": 4
 },
 "nbformat": 4,
 "nbformat_minor": 2
}
