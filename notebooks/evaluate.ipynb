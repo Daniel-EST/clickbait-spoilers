{
 "cells": [
  {
   "attachments": {},
   "cell_type": "markdown",
   "metadata": {},
   "source": [
    "# Clickbait Spoiler Generation using GPT-3"
   ]
  },
  {
   "cell_type": "code",
   "execution_count": null,
   "metadata": {},
   "outputs": [],
   "source": [
    "# This is necessary to fix the imports\n",
    "import os\n",
    "import sys\n",
    "sys.path.append(os.path.abspath(os.path.join('../src')))"
   ]
  },
  {
   "cell_type": "code",
   "execution_count": null,
   "metadata": {},
   "outputs": [],
   "source": [
    "import models.gpt3 as gpt3\n",
    "import utils.openai\n",
    "\n",
    "from prepare_data_openai import OPENAI_MODEL"
   ]
  },
  {
   "cell_type": "code",
   "execution_count": null,
   "metadata": {},
   "outputs": [],
   "source": [
    "MODEL_ID = \"ada:ft-personal-2023-05-04-01-44-28\"\n",
    "OPENAI_MAX_EVAL_LEN = 20"
   ]
  },
  {
   "attachments": {},
   "cell_type": "markdown",
   "metadata": {},
   "source": [
    "## Validation"
   ]
  },
  {
   "cell_type": "code",
   "execution_count": null,
   "metadata": {},
   "outputs": [],
   "source": [
    "validation = gpt3.read_data(\"../data/parsed/openai/validation.jsonl\")[:2]"
   ]
  },
  {
   "cell_type": "code",
   "execution_count": null,
   "metadata": {},
   "outputs": [],
   "source": [
    "utils.openai.estimate_costs_fine_tune_usage(\"../data/parsed/openai/validation.jsonl\", OPENAI_MODEL)"
   ]
  },
  {
   "attachments": {},
   "cell_type": "markdown",
   "metadata": {},
   "source": [
    "Predicting"
   ]
  },
  {
   "cell_type": "code",
   "execution_count": null,
   "metadata": {},
   "outputs": [],
   "source": [
    "for data in validation:\n",
    "    data[\"prediction\"] = gpt3.predict(validation[\"prompt\"], MODEL_ID, sleep_time=2)[0][0]"
   ]
  },
  {
   "cell_type": "code",
   "execution_count": null,
   "metadata": {},
   "outputs": [],
   "source": [
    "import utils\n",
    "utils.write_results(\"../data/results/openai/validation.csv\", validation)"
   ]
  },
  {
   "cell_type": "code",
   "execution_count": null,
   "metadata": {},
   "outputs": [],
   "source": [
    "validation = utils.read_results(\"../data/results/openai/validation.csv\")"
   ]
  },
  {
   "attachments": {},
   "cell_type": "markdown",
   "metadata": {},
   "source": [
    "Evaluation"
   ]
  },
  {
   "cell_type": "code",
   "execution_count": null,
   "metadata": {},
   "outputs": [],
   "source": [
    "import evaluate\n",
    "meteor = evaluate.load(\"meteor\")\n",
    "bleu = evaluate.load(\"bleu\")\n",
    "bertscore = evaluate.load(\"bertscore\")"
   ]
  },
  {
   "attachments": {},
   "cell_type": "markdown",
   "metadata": {},
   "source": [
    "Total"
   ]
  },
  {
   "cell_type": "code",
   "execution_count": null,
   "metadata": {},
   "outputs": [],
   "source": [
    "meteor_results = meteor.compute(predictions=[ val[\"prediction\"] for val in validation ], references=[ val[\"completion\"] for val in validation ])\n",
    "bleu_results = bleu.compute(predictions=[ val[\"prediction\"] for val in validation ], references=[ val[\"completion\"] for val in validation ])\n",
    "bertscore_results = meteor.compute(predictions=[ val[\"prediction\"] for val in validation ], references=[ val[\"completion\"] for val in validation ], lang=\"en\")\n",
    "\n",
    "print(f\"Meteor: {meteor_results['meteor']}\\nBLEU-4: {bleu_results['bleu']}\\nBERTscore Mean F1: {sum(bertscore_results['f1'])/len(bertscore_results['f1'])}\")"
   ]
  },
  {
   "attachments": {},
   "cell_type": "markdown",
   "metadata": {},
   "source": [
    "Phrase"
   ]
  },
  {
   "cell_type": "code",
   "execution_count": null,
   "metadata": {},
   "outputs": [],
   "source": [
    "validation_phrase = filter(lambda x: x[\"type\"]==\"phrase\", validation)\n",
    "\n",
    "meteor_results = meteor.compute(predictions=[ val[\"prediction\"] for val in validation_phrase ], references=[ val[\"completion\"] for val in validation_phrase ])\n",
    "bleu_results = bleu.compute(predictions=[ val[\"prediction\"] for val in validation_phrase ], references=[ val[\"completion\"] for val in validation_phrase ])\n",
    "bertscore_results = meteor.compute(predictions=[ val[\"prediction\"] for val in validation_phrase ], references=[ val[\"completion\"] for val in validation_phrase ], lang=\"en\")\n",
    "\n",
    "print(f\"Meteor: {meteor_results['meteor']}\\nBLEU-4: {bleu_results['bleu']}\\nBERTscore Mean F1: {sum(bertscore_results['f1'])/len(bertscore_results['f1'])}\")"
   ]
  },
  {
   "attachments": {},
   "cell_type": "markdown",
   "metadata": {},
   "source": [
    "Passage"
   ]
  },
  {
   "cell_type": "code",
   "execution_count": null,
   "metadata": {},
   "outputs": [],
   "source": [
    "validation_passage = filter(lambda x: x[\"type\"]==\"passage\", validation)\n",
    "\n",
    "meteor_results = meteor.compute(predictions=[ val[\"prediction\"] for val in validation_passage ], references=[ val[\"completion\"] for val in validation_passage ])\n",
    "bleu_results = bleu.compute(predictions=[ val[\"prediction\"] for val in validation_passage ], references=[ val[\"completion\"] for val in validation_passage ])\n",
    "bertscore_results = meteor.compute(predictions=[ val[\"prediction\"] for val in validation_passage ], references=[ val[\"completion\"] for val in validation_passage ], lang=\"en\")\n",
    "\n",
    "print(f\"Meteor: {meteor_results['meteor']}\\nBLEU-4: {bleu_results['bleu']}\\nBERTscore Mean F1: {sum(bertscore_results['f1'])/len(bertscore_results['f1'])}\")"
   ]
  },
  {
   "attachments": {},
   "cell_type": "markdown",
   "metadata": {},
   "source": [
    "Multi"
   ]
  },
  {
   "cell_type": "code",
   "execution_count": null,
   "metadata": {},
   "outputs": [],
   "source": [
    "validation_multi = filter(lambda x: x[\"type\"]==\"multi\", validation)\n",
    "\n",
    "meteor_results = meteor.compute(predictions=[ val[\"prediction\"] for val in validation_multi ], references=[ val[\"completion\"] for val in validation_multi ])\n",
    "bleu_results = bleu.compute(predictions=[ val[\"prediction\"] for val in validation_multi ], references=[ val[\"completion\"] for val in validation_multi ])\n",
    "bertscore_results = meteor.compute(predictions=[ val[\"prediction\"] for val in validation_multi ], references=[ val[\"completion\"] for val in validation_multi ], lang=\"en\")\n",
    "\n",
    "print(f\"Meteor: {meteor_results['meteor']}\\nBLEU-4: {bleu_results['bleu']}\\nBERTscore Mean F1: {sum(bertscore_results['f1'])/len(bertscore_results['f1'])}\")"
   ]
  },
  {
   "attachments": {},
   "cell_type": "markdown",
   "metadata": {},
   "source": [
    "## Test"
   ]
  },
  {
   "cell_type": "code",
   "execution_count": null,
   "metadata": {},
   "outputs": [],
   "source": [
    "test = gpt3.read_data(\"../data/parsed/openai/test.jsonl\")"
   ]
  },
  {
   "cell_type": "code",
   "execution_count": null,
   "metadata": {},
   "outputs": [],
   "source": [
    "utils.openai.estimate_costs_fine_tune_usage(\"../data/parsed/openai/test.jsonl\", OPENAI_MODEL)"
   ]
  },
  {
   "attachments": {},
   "cell_type": "markdown",
   "metadata": {},
   "source": [
    "Predicting"
   ]
  },
  {
   "cell_type": "code",
   "execution_count": null,
   "metadata": {},
   "outputs": [],
   "source": [
    "for data in test:\n",
    "    data[\"prediction\"] = gpt3.predict(test[\"prompt\"], MODEL_ID, sleep_time=2)[0][0]"
   ]
  },
  {
   "cell_type": "code",
   "execution_count": null,
   "metadata": {},
   "outputs": [],
   "source": [
    "utils.write_results(\"../data/results/openai/test.csv\", test)"
   ]
  },
  {
   "cell_type": "code",
   "execution_count": null,
   "metadata": {},
   "outputs": [],
   "source": [
    "test = utils.read_results(\"../data/results/openai/test.csv\")"
   ]
  },
  {
   "attachments": {},
   "cell_type": "markdown",
   "metadata": {},
   "source": [
    "Evaluation"
   ]
  },
  {
   "attachments": {},
   "cell_type": "markdown",
   "metadata": {},
   "source": [
    "Total"
   ]
  },
  {
   "cell_type": "code",
   "execution_count": null,
   "metadata": {},
   "outputs": [],
   "source": [
    "meteor_results = meteor.compute(predictions=[ t[\"prediction\"] for t in test ], references=[ t[\"completion\"] for t in test ])\n",
    "bleu_results = bleu.compute(predictions=[ t[\"prediction\"] for t in test ], references=[ t[\"completion\"] for t in test ])\n",
    "bertscore_results = meteor.compute(predictions=[ t[\"prediction\"] for t in test ], references=[ t[\"completion\"] for t in test ], lang=\"en\")\n",
    "\n",
    "print(f\"Meteor: {meteor_results['meteor']}\\nBLEU-4: {bleu_results['bleu']}\\nBERTscore Mean F1: {sum(bertscore_results['f1'])/len(bertscore_results['f1'])}\")"
   ]
  },
  {
   "cell_type": "code",
   "execution_count": null,
   "metadata": {},
   "outputs": [],
   "source": [
    "test_phrase = filter(lambda x: x[\"type\"]==\"phrase\", test)\n",
    "\n",
    "meteor_results = meteor.compute(predictions=[ val[\"prediction\"] for val in test_phrase ], references=[ val[\"completion\"] for val in test_phrase ])\n",
    "bleu_results = bleu.compute(predictions=[ val[\"prediction\"] for val in test_phrase ], references=[ val[\"completion\"] for val in test_phrase ])\n",
    "bertscore_results = meteor.compute(predictions=[ val[\"prediction\"] for val in test_phrase ], references=[ val[\"completion\"] for val in test_phrase ], lang=\"en\")\n",
    "\n",
    "print(f\"Meteor: {meteor_results['meteor']}\\nBLEU-4: {bleu_results['bleu']}\\nBERTscore Mean F1: {sum(bertscore_results['f1'])/len(bertscore_results['f1'])}\")"
   ]
  },
  {
   "cell_type": "code",
   "execution_count": null,
   "metadata": {},
   "outputs": [],
   "source": [
    "test_passage = filter(lambda x: x[\"type\"]==\"passage\", test)\n",
    "\n",
    "meteor_results = meteor.compute(predictions=[ val[\"prediction\"] for val in test_passage ], references=[ val[\"completion\"] for val in test_passage ])\n",
    "bleu_results = bleu.compute(predictions=[ val[\"prediction\"] for val in test_passage ], references=[ val[\"completion\"] for val in test_passage ])\n",
    "bertscore_results = meteor.compute(predictions=[ val[\"prediction\"] for val in test_passage ], references=[ val[\"completion\"] for val in test_passage ], lang=\"en\")\n",
    "\n",
    "print(f\"Meteor: {meteor_results['meteor']}\\nBLEU-4: {bleu_results['bleu']}\\nBERTscore Mean F1: {sum(bertscore_results['f1'])/len(bertscore_results['f1'])}\")"
   ]
  },
  {
   "cell_type": "code",
   "execution_count": null,
   "metadata": {},
   "outputs": [],
   "source": [
    "test_multi = filter(lambda x: x[\"type\"]==\"multi\", test)\n",
    "\n",
    "meteor_results = meteor.compute(predictions=[ val[\"prediction\"] for val in test_multi ], references=[ val[\"completion\"] for val in test_multi ])\n",
    "bleu_results = bleu.compute(predictions=[ val[\"prediction\"] for val in test_multi ], references=[ val[\"completion\"] for val in test_multi ])\n",
    "bertscore_results = meteor.compute(predictions=[ val[\"prediction\"] for val in test_multi ], references=[ val[\"completion\"] for val in test_multi ], lang=\"en\")\n",
    "\n",
    "print(f\"Meteor: {meteor_results['meteor']}\\nBLEU-4: {bleu_results['bleu']}\\nBERTscore Mean F1: {sum(bertscore_results['f1'])/len(bertscore_results['f1'])}\")"
   ]
  },
  {
   "attachments": {},
   "cell_type": "markdown",
   "metadata": {},
   "source": [
    "# Clickbait Spoiler Generation using LLaMa"
   ]
  },
  {
   "cell_type": "code",
   "execution_count": null,
   "metadata": {},
   "outputs": [],
   "source": [
    "# !python ../src/models/llama/alpaca-lora/generate.py \\\n",
    "#     --load_8bit \\\n",
    "#     --base_model $MODEL_CHECKPOINT  \\\n",
    "#     --lora_weights $SAVE_CHECKPOINT_PATH"
   ]
  },
  {
   "cell_type": "code",
   "execution_count": null,
   "metadata": {},
   "outputs": [],
   "source": [
    "# utils.write_results(\"../data/results/validation.csv\", validation)"
   ]
  },
  {
   "attachments": {},
   "cell_type": "markdown",
   "metadata": {},
   "source": [
    "# Clickbait Spoiler Generation using BERT"
   ]
  },
  {
   "cell_type": "code",
   "execution_count": null,
   "metadata": {},
   "outputs": [],
   "source": [
    "BATCH_SIZE = 3\n",
    "N_EPOCHS = 5\n",
    "LEARNING_RATE = 2e-5\n",
    "SAVE_CHECKPOINT_PATH = \"../src/models/bert/clickbait\""
   ]
  },
  {
   "cell_type": "code",
   "execution_count": null,
   "metadata": {},
   "outputs": [],
   "source": [
    "from utils.bert import MODEL_CHECKPOINT, TOKENIZER\n",
    "from transformers import TFAutoModelForQuestionAnswering\n",
    "\n",
    "model = TFAutoModelForQuestionAnswering.from_pretrained(SAVE_CHECKPOINT_PATH)"
   ]
  },
  {
   "cell_type": "code",
   "execution_count": null,
   "metadata": {},
   "outputs": [],
   "source": [
    "from datasets import load_dataset\n",
    "\n",
    "raw_datasets = load_dataset(\"../data/parsed/bert/clickbait_data.py\", data_files={\n",
    "    \"train\": \"train.jsonl\", \n",
    "    \"test\": \"test.jsonl\", \n",
    "    \"validation\": \"validation.jsonl\"\n",
    "})"
   ]
  },
  {
   "attachments": {},
   "cell_type": "markdown",
   "metadata": {},
   "source": [
    "## Validation"
   ]
  },
  {
   "cell_type": "code",
   "execution_count": null,
   "metadata": {},
   "outputs": [],
   "source": [
    "import utils.bert\n",
    "\n",
    "raw_validation = raw_datasets[\"validation\"].filter(lambda x: x[\"type\"]==\"phrase\")\n",
    "validation_dataset = raw_validation.map(\n",
    "    utils.bert.preprocess_validation,\n",
    "    batched=True,\n",
    "    remove_columns=raw_validation.column_names,\n",
    ")\n",
    "len(raw_validation), len(validation_dataset)"
   ]
  },
  {
   "cell_type": "code",
   "execution_count": null,
   "metadata": {},
   "outputs": [],
   "source": [
    "from transformers import DefaultDataCollator\n",
    "data_collator = DefaultDataCollator(return_tensors=\"tf\")\n",
    "\n",
    "tf_val_dataset = model.prepare_tf_dataset(\n",
    "    validation_dataset,\n",
    "    collate_fn=data_collator,\n",
    "    shuffle=False,\n",
    "    batch_size=BATCH_SIZE\n",
    ")"
   ]
  },
  {
   "attachments": {},
   "cell_type": "markdown",
   "metadata": {},
   "source": [
    "Predicting"
   ]
  },
  {
   "cell_type": "code",
   "execution_count": null,
   "metadata": {},
   "outputs": [],
   "source": [
    "val_predictions = model.predict(tf_val_dataset)"
   ]
  },
  {
   "cell_type": "code",
   "execution_count": null,
   "metadata": {},
   "outputs": [],
   "source": [
    "val_metrics = utils.bert.compute_metrics(\n",
    "    val_predictions[\"start_logits\"],\n",
    "    val_predictions[\"end_logits\"],\n",
    "    validation_dataset,\n",
    "    raw_validation,\n",
    ")\n",
    "val_metrics"
   ]
  },
  {
   "cell_type": "code",
   "execution_count": null,
   "metadata": {},
   "outputs": [],
   "source": [
    "from transformers import pipeline\n",
    "question_answerer = pipeline(\"question-answering\", model=SAVE_CHECKPOINT_PATH, tokenizer=TOKENIZER)"
   ]
  },
  {
   "cell_type": "code",
   "execution_count": null,
   "metadata": {},
   "outputs": [],
   "source": [
    "val_predictions = question_answerer(question=raw_validation[\"question\"], context=raw_validation[\"context\"])\n",
    "\n",
    "val_predicted_answers = [prediction[\"answer\"] for prediction in val_predictions]\n",
    "val_expected_answers = [answer[\"text\"][0] for answer in raw_validation[\"answers\"]]"
   ]
  },
  {
   "cell_type": "code",
   "execution_count": null,
   "metadata": {},
   "outputs": [],
   "source": [
    "utils.write_results(\"../data/results/bert/validation.csv\", [{\n",
    "    \"prediction\": prediction,\n",
    "    \"completion\": completion\n",
    "} for prediction, completion in zip(val_predicted_answers, val_expected_answers)])"
   ]
  },
  {
   "attachments": {},
   "cell_type": "markdown",
   "metadata": {},
   "source": [
    "## Test"
   ]
  },
  {
   "cell_type": "code",
   "execution_count": null,
   "metadata": {},
   "outputs": [],
   "source": [
    "raw_test = raw_datasets[\"test\"].filter(lambda x: x[\"type\"]==\"phrase\")\n",
    "test_dataset = raw_test.map(\n",
    "    utils.bert.preprocess_validation,\n",
    "    batched=True,\n",
    "    remove_columns=raw_test.column_names,\n",
    ")\n",
    "len(raw_test), len(test_dataset)"
   ]
  },
  {
   "cell_type": "code",
   "execution_count": null,
   "metadata": {},
   "outputs": [],
   "source": [
    "tf_test_dataset = model.prepare_tf_dataset(\n",
    "    test_dataset,\n",
    "    collate_fn=data_collator,\n",
    "    shuffle=False,\n",
    "    batch_size=BATCH_SIZE\n",
    ")"
   ]
  },
  {
   "attachments": {},
   "cell_type": "markdown",
   "metadata": {},
   "source": [
    "Predicting"
   ]
  },
  {
   "cell_type": "code",
   "execution_count": null,
   "metadata": {},
   "outputs": [],
   "source": [
    "test_predictions = model.predict(tf_test_dataset)"
   ]
  },
  {
   "cell_type": "code",
   "execution_count": null,
   "metadata": {},
   "outputs": [],
   "source": [
    "test_metrics = utils.bert.compute_metrics(\n",
    "    test_predictions[\"start_logits\"],\n",
    "    test_predictions[\"end_logits\"],\n",
    "    test_dataset,\n",
    "    raw_test,\n",
    ")\n",
    "test_metrics"
   ]
  },
  {
   "cell_type": "code",
   "execution_count": null,
   "metadata": {},
   "outputs": [],
   "source": [
    "test_predictions = question_answerer(question=raw_test[\"question\"], context=raw_test[\"context\"])\n",
    "\n",
    "test_predicted_answers = [prediction[\"answer\"] for prediction in test_predictions]\n",
    "test_expected_answers = [answer[\"text\"][0] for answer in raw_test[\"answers\"]]"
   ]
  },
  {
   "cell_type": "code",
   "execution_count": null,
   "metadata": {},
   "outputs": [],
   "source": [
    "utils.write_results(\"../data/results/bert/test.csv\", [{\n",
    "    \"prediction\": prediction,\n",
    "    \"completion\": completion\n",
    "} for prediction, completion in zip(test_predicted_answers, test_expected_answers)])"
   ]
  }
 ],
 "metadata": {
  "kernelspec": {
   "display_name": ".venv",
   "language": "python",
   "name": "python3"
  },
  "language_info": {
   "codemirror_mode": {
    "name": "ipython",
    "version": 3
   },
   "file_extension": ".py",
   "mimetype": "text/x-python",
   "name": "python",
   "nbconvert_exporter": "python",
   "pygments_lexer": "ipython3",
   "version": "3.11.3"
  },
  "orig_nbformat": 4
 },
 "nbformat": 4,
 "nbformat_minor": 2
}
