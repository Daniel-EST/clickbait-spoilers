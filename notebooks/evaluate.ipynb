{
 "cells": [
  {
   "attachments": {},
   "cell_type": "markdown",
   "metadata": {},
   "source": [
    "# Clickbait Spoiler Generation using GPT-3"
   ]
  },
  {
   "cell_type": "code",
   "execution_count": null,
   "metadata": {},
   "outputs": [],
   "source": [
    "# This is necessary to fix the imports\n",
    "import os\n",
    "import sys\n",
    "sys.path.append(os.path.abspath(os.path.join('../src')))"
   ]
  },
  {
   "attachments": {},
   "cell_type": "markdown",
   "metadata": {},
   "source": [
    "Preparing the data using a custom function and validating it using the openai preparation tool"
   ]
  },
  {
   "cell_type": "code",
   "execution_count": null,
   "metadata": {},
   "outputs": [],
   "source": [
    "import models.gpt3 as gpt3\n",
    "import utils.openai\n",
    "\n",
    "from prepare_data_openai import OPENAI_MODEL"
   ]
  },
  {
   "cell_type": "code",
   "execution_count": null,
   "metadata": {},
   "outputs": [],
   "source": [
    "MODEL_ID = \"ada:ft-personal-2023-05-04-01-44-28\"\n",
    "OPENAI_MAX_EVAL_LEN = 20"
   ]
  },
  {
   "cell_type": "code",
   "execution_count": null,
   "metadata": {},
   "outputs": [],
   "source": [
    "validation = gpt3.read_data(\"../data/parsed/openai/validation.jsonl\")"
   ]
  },
  {
   "cell_type": "code",
   "execution_count": null,
   "metadata": {},
   "outputs": [],
   "source": [
    "utils.openai.estimate_costs_fine_tune_usage(\"../data/parsed/openai/validation.jsonl\", OPENAI_MODEL)"
   ]
  },
  {
   "cell_type": "code",
   "execution_count": null,
   "metadata": {},
   "outputs": [],
   "source": [
    "val_predictions = gpt3.predict(validation[\"prompts\"], MODEL_ID)"
   ]
  },
  {
   "cell_type": "code",
   "execution_count": null,
   "metadata": {},
   "outputs": [],
   "source": [
    "gpt3.write_results(validation[\"prompts\"], validation[\"completions\"], val_predictions, \"../data/results/validation.jsonl\")"
   ]
  },
  {
   "cell_type": "code",
   "execution_count": null,
   "metadata": {},
   "outputs": [],
   "source": [
    "import evaluate\n",
    "meteor = evaluate.load(\"meteor\")\n",
    "bleu = evaluate.load(\"bleu\")\n",
    "bertscore = evaluate.load(\"bertscore\")"
   ]
  },
  {
   "cell_type": "code",
   "execution_count": null,
   "metadata": {},
   "outputs": [],
   "source": [
    "meteor_results = meteor.compute(predictions=val_predictions[0], references=[validation[\"completions\"][0]])\n",
    "bleu_results = bleu.compute(predictions=val_predictions[0], references=[validation[\"completions\"][0]])\n",
    "bertscore_results = bertscore.compute(predictions=val_predictions[0], references=[validation[\"completions\"][0]], lang=\"en\")\n",
    "\n",
    "print(f\"Meteor: {meteor_results['meteor']}\\nBLEU-4: {bleu_results['bleu']}\\nBERTscore Mean F1: {sum(bertscore_results['f1'])/len(bertscore_results['f1'])}\")"
   ]
  },
  {
   "cell_type": "code",
   "execution_count": null,
   "metadata": {},
   "outputs": [],
   "source": [
    "test = gpt3.read_data(\"../data/parsed/openai/test.jsonl\")"
   ]
  },
  {
   "cell_type": "code",
   "execution_count": null,
   "metadata": {},
   "outputs": [],
   "source": [
    "utils.openai.estimate_costs_fine_tune_usage(\"../data/parsed/openai/test.jsonl\", OPENAI_MODEL)"
   ]
  },
  {
   "cell_type": "code",
   "execution_count": null,
   "metadata": {},
   "outputs": [],
   "source": [
    "test_predictions = gpt3.predict(test[\"prompts\"], MODEL_ID)"
   ]
  },
  {
   "cell_type": "code",
   "execution_count": null,
   "metadata": {},
   "outputs": [],
   "source": [
    "gpt3.write_results(test[\"prompts\"], test[\"completions\"], test_predictions, \"../data/results/test.jsonl\")"
   ]
  },
  {
   "cell_type": "code",
   "execution_count": null,
   "metadata": {},
   "outputs": [],
   "source": [
    "meteor_results = meteor.compute(predictions=test_predictions, references= test[\"completions\"])\n",
    "bleu_results = bleu.compute(predictions=test_predictions, references= test[\"completions\"])\n",
    "bertscore_results = bertscore.compute(predictions=test_predictions, references= test[\"completions\"], lang=\"en\")\n",
    "\n",
    "print(f\"Meteor: {meteor_results['meteor']}\\nBLEU-4: {bleu_results['bleu']}\\nBERTscore Mean F1: {sum(bertscore_results['f1'])/len(bertscore_results['f1'])}\")"
   ]
  }
 ],
 "metadata": {
  "kernelspec": {
   "display_name": ".venv",
   "language": "python",
   "name": "python3"
  },
  "language_info": {
   "codemirror_mode": {
    "name": "ipython",
    "version": 3
   },
   "file_extension": ".py",
   "mimetype": "text/x-python",
   "name": "python",
   "nbconvert_exporter": "python",
   "pygments_lexer": "ipython3",
   "version": "3.11.3"
  },
  "orig_nbformat": 4
 },
 "nbformat": 4,
 "nbformat_minor": 2
}
