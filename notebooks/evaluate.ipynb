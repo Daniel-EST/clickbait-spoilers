{
 "cells": [
  {
   "attachments": {},
   "cell_type": "markdown",
   "metadata": {},
   "source": [
    "# Clickbait Spoiler Generation using GPT-3"
   ]
  },
  {
   "attachments": {},
   "cell_type": "markdown",
   "metadata": {},
   "source": [
    "Preparing the data using a custom function and validating it using the openai preparation tool"
   ]
  },
  {
   "cell_type": "code",
   "execution_count": null,
   "metadata": {},
   "outputs": [],
   "source": [
    "import jsonlines\n",
    "import time\n",
    "\n",
    "import models.gpt3 as gpt3"
   ]
  },
  {
   "cell_type": "code",
   "execution_count": null,
   "metadata": {},
   "outputs": [],
   "source": [
    "OPENAI_MAX_EVAL_LEN = 20"
   ]
  },
  {
   "cell_type": "code",
   "execution_count": null,
   "metadata": {},
   "outputs": [],
   "source": [
    "with jsonlines.open(\"../data/parsed/validation.jsonl\", \"r\") as reader:\n",
    "    clickbaits = []\n",
    "    references = []\n",
    "    for line in reader:\n",
    "        clickbaits.append(line[\"prompt\"])\n",
    "        references.append(line[\"completion\"].replace(\" END\", \"\").strip())"
   ]
  },
  {
   "cell_type": "code",
   "execution_count": null,
   "metadata": {},
   "outputs": [],
   "source": [
    "# with jsonlines.open(\"../data/results/validation.jsonl\", \"w\") as writer:\n",
    "#     for clickbait, expected in zip(clickbaits, references):\n",
    "#         prediction = models.gpt3.predict(clickbait)\n",
    "#         writer.write({\n",
    "#             \"clickbait\": clickbait,\n",
    "#             \"expected\": expected,\n",
    "#             \"prediction\": prediction\n",
    "#         })\n",
    "#         time.sleep(1)"
   ]
  },
  {
   "cell_type": "code",
   "execution_count": null,
   "metadata": {},
   "outputs": [],
   "source": [
    "import evaluate\n",
    "meteor = evaluate.load(\"meteor\")\n",
    "bleu = evaluate.load(\"bleu\")\n",
    "bertscore = evaluate.load(\"bertscore\")"
   ]
  },
  {
   "cell_type": "code",
   "execution_count": null,
   "metadata": {},
   "outputs": [],
   "source": [
    "with jsonlines.open(\"../data/results/validation.jsonl\", \"r\") as reader:\n",
    "    clickbaits = []\n",
    "    references = []\n",
    "    predictions = []\n",
    "    for line in reader:\n",
    "        clickbaits.append(line[\"clickbait\"])\n",
    "        references.append(line[\"expected\"])\n",
    "        predictions.append(line[\"prediction\"][0])"
   ]
  },
  {
   "cell_type": "code",
   "execution_count": null,
   "metadata": {},
   "outputs": [],
   "source": [
    "meteor_results = meteor.compute(predictions=predictions, references=references)\n",
    "bleu_results = bleu.compute(predictions=predictions, references=references)\n",
    "bertscore_results = bertscore.compute(predictions=predictions, references=references, lang=\"en\")\n",
    "\n",
    "print(f\"Meteor: {meteor_results['meteor']}\\nBLEU-4: {bleu_results['bleu']}\\nBERTscore Mean F1: {sum(bertscore_results['f1'])/len(bertscore_results['f1'])}\")"
   ]
  },
  {
   "cell_type": "code",
   "execution_count": null,
   "metadata": {},
   "outputs": [],
   "source": [
    "with open(\"../data/results/validation.txt\", \"w\") as write:\n",
    "    write.write(f\"Meteor: {meteor_results['meteor']}\\nBLEU-4: {bleu_results['bleu']}\\nBERTscore Mean F1: {sum(bertscore_results['f1'])/len(bertscore_results['f1'])}\\n\\n\\n\")\n",
    "    for clickbait, prediction, expected in zip(clickbaits, predictions, references):\n",
    "        write.write(\n",
    "            f\"{clickbait}\\n\\nPREDICTION:\\n{prediction}\\n\\nEXPECTED:\\n{expected}\\n\\n\\n------\\n\\n\\n\"\n",
    "        )"
   ]
  },
  {
   "cell_type": "code",
   "execution_count": null,
   "metadata": {},
   "outputs": [],
   "source": [
    "with jsonlines.open(\"../data/parsed/test.jsonl\", \"r\") as reader:\n",
    "    clickbaits = []\n",
    "    references = []\n",
    "    for line in reader:\n",
    "        clickbaits.append(line[\"prompt\"])\n",
    "        references.append(line[\"completion\"].replace(\" END\", \"\").strip())"
   ]
  },
  {
   "cell_type": "code",
   "execution_count": null,
   "metadata": {},
   "outputs": [],
   "source": [
    "# with jsonlines.open(\"../data/results/test.jsonl\", \"w\") as writer:\n",
    "#     for clickbait, expected in zip(clickbaits, references):\n",
    "#         prediction = models.gpt3.predict(clickbait)\n",
    "#         writer.write({\n",
    "#             \"clickbait\": clickbait,\n",
    "#             \"expected\": expected,\n",
    "#             \"prediction\": prediction\n",
    "#         })\n",
    "#         time.sleep(1)"
   ]
  },
  {
   "cell_type": "code",
   "execution_count": null,
   "metadata": {},
   "outputs": [],
   "source": [
    "with jsonlines.open(\"../data/results/test.jsonl\", \"r\") as reader:\n",
    "    clickbaits = []\n",
    "    references = []\n",
    "    predictions = []\n",
    "    for line in reader:\n",
    "        clickbaits.append(line[\"clickbait\"])\n",
    "        references.append(line[\"expected\"])\n",
    "        predictions.append(line[\"prediction\"][0])"
   ]
  },
  {
   "cell_type": "code",
   "execution_count": null,
   "metadata": {},
   "outputs": [],
   "source": [
    "meteor_results = meteor.compute(predictions=predictions, references=references)\n",
    "bleu_results = bleu.compute(predictions=predictions, references=references)\n",
    "bertscore_results = bertscore.compute(predictions=predictions, references=references, lang=\"en\")\n",
    "\n",
    "print(f\"Meteor: {meteor_results['meteor']}\\nBLEU-4: {bleu_results['bleu']}\\nBERTscore Mean F1: {sum(bertscore_results['f1'])/len(bertscore_results['f1'])}\")"
   ]
  },
  {
   "cell_type": "code",
   "execution_count": null,
   "metadata": {},
   "outputs": [],
   "source": [
    "with open(\"../data/results/test.txt\", \"w\") as write:\n",
    "    write.write(f\"Meteor: {meteor_results['meteor']}\\nBLEU-4: {bleu_results['bleu']}\\nBERTscore Mean F1: {sum(bertscore_results['f1'])/len(bertscore_results['f1'])}\\n\\n\\n\")\n",
    "    for clickbait, prediction, expected in zip(clickbaits, predictions, references):\n",
    "        write.write(\n",
    "            f\"{clickbait}\\n\\nPREDICTION:\\n{prediction}\\n\\nEXPECTED:\\n{expected}\\n\\n\\n------\\n\\n\\n\"\n",
    "        )"
   ]
  }
 ],
 "metadata": {
  "kernelspec": {
   "display_name": ".venv",
   "language": "python",
   "name": "python3"
  },
  "language_info": {
   "codemirror_mode": {
    "name": "ipython",
    "version": 3
   },
   "file_extension": ".py",
   "mimetype": "text/x-python",
   "name": "python",
   "nbconvert_exporter": "python",
   "pygments_lexer": "ipython3",
   "version": "3.11.3"
  },
  "orig_nbformat": 4
 },
 "nbformat": 4,
 "nbformat_minor": 2
}
