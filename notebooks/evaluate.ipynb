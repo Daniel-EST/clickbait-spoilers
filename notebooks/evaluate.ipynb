{
 "cells": [
  {
   "attachments": {},
   "cell_type": "markdown",
   "metadata": {},
   "source": [
    "# Clickbait Spoiler Generation using GPT-3"
   ]
  },
  {
   "cell_type": "code",
   "execution_count": 1,
   "metadata": {},
   "outputs": [],
   "source": [
    "# This is necessary to fix the imports\n",
    "import os\n",
    "import sys\n",
    "sys.path.append(os.path.abspath(os.path.join('../src')))"
   ]
  },
  {
   "cell_type": "code",
   "execution_count": 2,
   "metadata": {},
   "outputs": [],
   "source": [
    "import models.gpt3 as gpt3\n",
    "import utils.openai\n",
    "\n",
    "from prepare_data_openai import OPENAI_MODEL"
   ]
  },
  {
   "cell_type": "code",
   "execution_count": 3,
   "metadata": {},
   "outputs": [],
   "source": [
    "MODEL_ID = \"ada:ft-personal:clickbait-spoiler-2023-06-11-16-56-34\"\n",
    "OPENAI_MAX_EVAL_LEN = 20"
   ]
  },
  {
   "attachments": {},
   "cell_type": "markdown",
   "metadata": {},
   "source": [
    "## Validation"
   ]
  },
  {
   "cell_type": "code",
   "execution_count": 4,
   "metadata": {},
   "outputs": [],
   "source": [
    "validation = gpt3.read_data(\"../data/parsed/openai/validation.jsonl\")"
   ]
  },
  {
   "cell_type": "code",
   "execution_count": 5,
   "metadata": {},
   "outputs": [
    {
     "data": {
      "text/plain": [
       "0.2368816"
      ]
     },
     "execution_count": 5,
     "metadata": {},
     "output_type": "execute_result"
    }
   ],
   "source": [
    "utils.openai.estimate_costs_fine_tune_usage(\"../data/parsed/openai/validation.jsonl\", OPENAI_MODEL)"
   ]
  },
  {
   "attachments": {},
   "cell_type": "markdown",
   "metadata": {},
   "source": [
    "Predicting"
   ]
  },
  {
   "cell_type": "code",
   "execution_count": 6,
   "metadata": {},
   "outputs": [],
   "source": [
    "# for val in validation:\n",
    "#     val[\"prediction\"] = gpt3.predict([val[\"prompt\"]], MODEL_ID, sleep_time=1.2)[0][0]"
   ]
  },
  {
   "cell_type": "code",
   "execution_count": 7,
   "metadata": {},
   "outputs": [],
   "source": [
    "import utils\n",
    "# utils.write_results(\"../data/results/openai/validation.csv\", validation)"
   ]
  },
  {
   "cell_type": "code",
   "execution_count": 8,
   "metadata": {},
   "outputs": [],
   "source": [
    "validation = utils.read_results(\"../data/results/openai/validation.csv\")"
   ]
  },
  {
   "attachments": {},
   "cell_type": "markdown",
   "metadata": {},
   "source": [
    "Evaluation"
   ]
  },
  {
   "cell_type": "code",
   "execution_count": 9,
   "metadata": {},
   "outputs": [
    {
     "name": "stderr",
     "output_type": "stream",
     "text": [
      "/Users/ddsantos/Coding/projects/clickbait-spoiler/.venv/lib/python3.11/site-packages/tqdm/auto.py:21: TqdmWarning: IProgress not found. Please update jupyter and ipywidgets. See https://ipywidgets.readthedocs.io/en/stable/user_install.html\n",
      "  from .autonotebook import tqdm as notebook_tqdm\n",
      "[nltk_data] Downloading package wordnet to\n",
      "[nltk_data]     /Users/ddsantos/nltk_data...\n",
      "[nltk_data]   Package wordnet is already up-to-date!\n",
      "[nltk_data] Downloading package punkt to /Users/ddsantos/nltk_data...\n",
      "[nltk_data]   Package punkt is already up-to-date!\n",
      "[nltk_data] Downloading package omw-1.4 to\n",
      "[nltk_data]     /Users/ddsantos/nltk_data...\n",
      "[nltk_data]   Package omw-1.4 is already up-to-date!\n"
     ]
    }
   ],
   "source": [
    "import evaluate\n",
    "meteor = evaluate.load(\"meteor\")\n",
    "bleu = evaluate.load(\"bleu\")\n",
    "bertscore = evaluate.load(\"bertscore\")"
   ]
  },
  {
   "attachments": {},
   "cell_type": "markdown",
   "metadata": {},
   "source": [
    "Total"
   ]
  },
  {
   "cell_type": "code",
   "execution_count": 10,
   "metadata": {},
   "outputs": [
    {
     "name": "stdout",
     "output_type": "stream",
     "text": [
      "Meteor: 0.4587569963469983\n",
      "BLEU-4: 0.3316278882234632\n",
      "BERTscore Mean F1: 0.8889159331418047\n"
     ]
    }
   ],
   "source": [
    "meteor_results = meteor.compute(predictions=[ val[\"prediction\"] for val in validation ], references=[ val[\"completion\"] for val in validation ], gamma=0, beta=0)\n",
    "bleu_results = bleu.compute(predictions=[ val[\"prediction\"] for val in validation ], references=[ val[\"completion\"] for val in validation ])\n",
    "bertscore_results = bertscore.compute(predictions=[ val[\"prediction\"] for val in validation ], references=[ val[\"completion\"] for val in validation ], lang=\"en\")\n",
    "\n",
    "print(f\"Meteor: {meteor_results['meteor']}\\nBLEU-4: {bleu_results['bleu']}\\nBERTscore Mean F1: {sum(bertscore_results['f1'])/len(bertscore_results['f1'])}\")"
   ]
  },
  {
   "attachments": {},
   "cell_type": "markdown",
   "metadata": {},
   "source": [
    "Phrase"
   ]
  },
  {
   "cell_type": "code",
   "execution_count": 11,
   "metadata": {},
   "outputs": [
    {
     "name": "stdout",
     "output_type": "stream",
     "text": [
      "Meteor: 0.5818087270217366\n",
      "BLEU-4: 0.03932456483142731\n",
      "BERTscore Mean F1: 0.9037741965322352\n"
     ]
    }
   ],
   "source": [
    "validation_phrase = list(filter(lambda x: x[\"type\"]==\"phrase\", validation))\n",
    "\n",
    "meteor_results = meteor.compute(predictions=[ val[\"prediction\"] for val in validation_phrase ], references=[ val[\"completion\"] for val in validation_phrase ], gamma=0, beta=0)\n",
    "bleu_results = bleu.compute(predictions=[ val[\"prediction\"] for val in validation_phrase ], references=[ val[\"completion\"] for val in validation_phrase ])\n",
    "bertscore_results = bertscore.compute(predictions=[ val[\"prediction\"] for val in validation_phrase ], references=[ val[\"completion\"] for val in validation_phrase ], lang=\"en\")\n",
    "\n",
    "print(f\"Meteor: {meteor_results['meteor']}\\nBLEU-4: {bleu_results['bleu']}\\nBERTscore Mean F1: {sum(bertscore_results['f1'])/len(bertscore_results['f1'])}\")"
   ]
  },
  {
   "attachments": {},
   "cell_type": "markdown",
   "metadata": {},
   "source": [
    "Passage"
   ]
  },
  {
   "cell_type": "code",
   "execution_count": 12,
   "metadata": {},
   "outputs": [
    {
     "name": "stdout",
     "output_type": "stream",
     "text": [
      "Meteor: 0.36317867047616764\n",
      "BLEU-4: 0.22363759309880255\n",
      "BERTscore Mean F1: 0.8730579776528441\n"
     ]
    }
   ],
   "source": [
    "validation_passage = list(filter(lambda x: x[\"type\"]==\"passage\", validation))\n",
    "\n",
    "meteor_results = meteor.compute(predictions=[ val[\"prediction\"] for val in validation_passage ], references=[ val[\"completion\"] for val in validation_passage ], gamma=0, beta=0)\n",
    "bleu_results = bleu.compute(predictions=[ val[\"prediction\"] for val in validation_passage ], references=[ val[\"completion\"] for val in validation_passage ])\n",
    "bertscore_results = bertscore.compute(predictions=[ val[\"prediction\"] for val in validation_passage ], references=[ val[\"completion\"] for val in validation_passage ], lang=\"en\")\n",
    "\n",
    "print(f\"Meteor: {meteor_results['meteor']}\\nBLEU-4: {bleu_results['bleu']}\\nBERTscore Mean F1: {sum(bertscore_results['f1'])/len(bertscore_results['f1'])}\")"
   ]
  },
  {
   "attachments": {},
   "cell_type": "markdown",
   "metadata": {},
   "source": [
    "Multi"
   ]
  },
  {
   "cell_type": "code",
   "execution_count": 13,
   "metadata": {},
   "outputs": [
    {
     "name": "stdout",
     "output_type": "stream",
     "text": [
      "Meteor: 0.4487045651535943\n",
      "BLEU-4: 0.529826208234148\n",
      "BERTscore Mean F1: 0.8946957504749298\n"
     ]
    }
   ],
   "source": [
    "validation_multi = list(filter(lambda x: x[\"type\"]==\"multi\", validation))\n",
    "\n",
    "meteor_results = meteor.compute(predictions=[ val[\"prediction\"] for val in validation_multi ], references=[ val[\"completion\"] for val in validation_multi ], gamma=0, beta=0)\n",
    "bleu_results = bleu.compute(predictions=[ val[\"prediction\"] for val in validation_multi ], references=[ val[\"completion\"] for val in validation_multi ])\n",
    "bertscore_results = bertscore.compute(predictions=[ val[\"prediction\"] for val in validation_multi ], references=[ val[\"completion\"] for val in validation_multi ], lang=\"en\")\n",
    "\n",
    "print(f\"Meteor: {meteor_results['meteor']}\\nBLEU-4: {bleu_results['bleu']}\\nBERTscore Mean F1: {sum(bertscore_results['f1'])/len(bertscore_results['f1'])}\")"
   ]
  },
  {
   "attachments": {},
   "cell_type": "markdown",
   "metadata": {},
   "source": [
    "## Test"
   ]
  },
  {
   "cell_type": "code",
   "execution_count": 14,
   "metadata": {},
   "outputs": [],
   "source": [
    "test = gpt3.read_data(\"../data/parsed/openai/test.jsonl\")"
   ]
  },
  {
   "cell_type": "code",
   "execution_count": 15,
   "metadata": {},
   "outputs": [
    {
     "data": {
      "text/plain": [
       "0.6292256"
      ]
     },
     "execution_count": 15,
     "metadata": {},
     "output_type": "execute_result"
    }
   ],
   "source": [
    "utils.openai.estimate_costs_fine_tune_usage(\"../data/parsed/openai/test.jsonl\", OPENAI_MODEL)"
   ]
  },
  {
   "attachments": {},
   "cell_type": "markdown",
   "metadata": {},
   "source": [
    "Predicting"
   ]
  },
  {
   "cell_type": "code",
   "execution_count": 16,
   "metadata": {},
   "outputs": [],
   "source": [
    "# for t in test:\n",
    "#     t[\"prediction\"] = gpt3.predict([t[\"prompt\"]], MODEL_ID, sleep_time=1.2)[0][0]"
   ]
  },
  {
   "cell_type": "code",
   "execution_count": 17,
   "metadata": {},
   "outputs": [],
   "source": [
    "# utils.write_results(\"../data/results/openai/test.csv\", test)"
   ]
  },
  {
   "cell_type": "code",
   "execution_count": 18,
   "metadata": {},
   "outputs": [],
   "source": [
    "test = utils.read_results(\"../data/results/openai/test.csv\")"
   ]
  },
  {
   "attachments": {},
   "cell_type": "markdown",
   "metadata": {},
   "source": [
    "Evaluation"
   ]
  },
  {
   "attachments": {},
   "cell_type": "markdown",
   "metadata": {},
   "source": [
    "Total"
   ]
  },
  {
   "cell_type": "code",
   "execution_count": 19,
   "metadata": {},
   "outputs": [
    {
     "name": "stdout",
     "output_type": "stream",
     "text": [
      "Meteor: 0.45717245430426773\n",
      "BLEU-4: 0.23299473243685423\n",
      "BERTscore Mean F1: 0.8906126411452245\n"
     ]
    }
   ],
   "source": [
    "meteor_results = meteor.compute(predictions=[ t[\"prediction\"] for t in test ], references=[ t[\"completion\"] for t in test ], gamma=0, beta=0)\n",
    "bleu_results = bleu.compute(predictions=[ t[\"prediction\"] for t in test ], references=[ t[\"completion\"] for t in test ])\n",
    "bertscore_results = bertscore.compute(predictions=[ t[\"prediction\"] for t in test ], references=[ t[\"completion\"] for t in test ], lang=\"en\")\n",
    "\n",
    "print(f\"Meteor: {meteor_results['meteor']}\\nBLEU-4: {bleu_results['bleu']}\\nBERTscore Mean F1: {sum(bertscore_results['f1'])/len(bertscore_results['f1'])}\")"
   ]
  },
  {
   "cell_type": "code",
   "execution_count": 20,
   "metadata": {},
   "outputs": [
    {
     "name": "stdout",
     "output_type": "stream",
     "text": [
      "Meteor: 0.5842126049103827\n",
      "BLEU-4: 0.061002572768710336\n",
      "BERTscore Mean F1: 0.9107595868964693\n"
     ]
    }
   ],
   "source": [
    "test_phrase = list(filter(lambda x: x[\"type\"]==\"phrase\", test))\n",
    "\n",
    "meteor_results = meteor.compute(predictions=[ t[\"prediction\"] for t in test_phrase ], references=[ t[\"completion\"] for t in test_phrase ], gamma=0, beta=0)\n",
    "bleu_results = bleu.compute(predictions=[ t[\"prediction\"] for t in test_phrase ], references=[ t[\"completion\"] for t in test_phrase ])\n",
    "bertscore_results = bertscore.compute(predictions=[ t[\"prediction\"] for t in test_phrase ], references=[ t[\"completion\"] for t in test_phrase ], lang=\"en\")\n",
    "\n",
    "print(f\"Meteor: {meteor_results['meteor']}\\nBLEU-4: {bleu_results['bleu']}\\nBERTscore Mean F1: {sum(bertscore_results['f1'])/len(bertscore_results['f1'])}\")"
   ]
  },
  {
   "cell_type": "code",
   "execution_count": 21,
   "metadata": {},
   "outputs": [
    {
     "name": "stdout",
     "output_type": "stream",
     "text": [
      "Meteor: 0.3333683301197167\n",
      "BLEU-4: 0.20985733289455827\n",
      "BERTscore Mean F1: 0.8703298326349852\n"
     ]
    }
   ],
   "source": [
    "test_passage = list(filter(lambda x: x[\"type\"]==\"passage\", test))\n",
    "\n",
    "meteor_results = meteor.compute(predictions=[ t[\"prediction\"] for t in test_passage ], references=[ t[\"completion\"] for t in test_passage ], gamma=0, beta=0)\n",
    "bleu_results = bleu.compute(predictions=[ t[\"prediction\"] for t in test_passage ], references=[ t[\"completion\"] for t in test_passage ])\n",
    "bertscore_results = bertscore.compute(predictions=[ t[\"prediction\"] for t in test_passage ], references=[ t[\"completion\"] for t in test_passage ], lang=\"en\")\n",
    "\n",
    "print(f\"Meteor: {meteor_results['meteor']}\\nBLEU-4: {bleu_results['bleu']}\\nBERTscore Mean F1: {sum(bertscore_results['f1'])/len(bertscore_results['f1'])}\")"
   ]
  },
  {
   "cell_type": "code",
   "execution_count": 22,
   "metadata": {},
   "outputs": [
    {
     "name": "stdout",
     "output_type": "stream",
     "text": [
      "Meteor: 0.41190399802510685\n",
      "BLEU-4: 0.3864844930392026\n",
      "BERTscore Mean F1: 0.8851155984786249\n"
     ]
    }
   ],
   "source": [
    "test_multi = list(filter(lambda x: x[\"type\"]==\"multi\", test))\n",
    "\n",
    "meteor_results = meteor.compute(predictions=[ t[\"prediction\"] for t in test_multi ], references=[ t[\"completion\"] for t in test_multi ], gamma=0, beta=0)\n",
    "bleu_results = bleu.compute(predictions=[ t[\"prediction\"] for t in test_multi ], references=[ t[\"completion\"] for t in test_multi ])\n",
    "bertscore_results = bertscore.compute(predictions=[ t[\"prediction\"] for t in test_multi ], references=[ t[\"completion\"] for t in test_multi ], lang=\"en\")\n",
    "\n",
    "print(f\"Meteor: {meteor_results['meteor']}\\nBLEU-4: {bleu_results['bleu']}\\nBERTscore Mean F1: {sum(bertscore_results['f1'])/len(bertscore_results['f1'])}\")"
   ]
  },
  {
   "attachments": {},
   "cell_type": "markdown",
   "metadata": {},
   "source": [
    "# Clickbait Spoiler Generation using LLaMa"
   ]
  },
  {
   "cell_type": "code",
   "execution_count": 23,
   "metadata": {},
   "outputs": [],
   "source": [
    "# !python ../src/models/llama/alpaca-lora/generate.py \\\n",
    "#     --load_8bit \\\n",
    "#     --base_model $MODEL_CHECKPOINT  \\\n",
    "#     --lora_weights $SAVE_CHECKPOINT_PATH"
   ]
  },
  {
   "cell_type": "code",
   "execution_count": 24,
   "metadata": {},
   "outputs": [],
   "source": [
    "# utils.write_results(\"../data/results/validation.csv\", validation)"
   ]
  },
  {
   "attachments": {},
   "cell_type": "markdown",
   "metadata": {},
   "source": [
    "# Clickbait Spoiler Generation using BERT"
   ]
  },
  {
   "cell_type": "code",
   "execution_count": 25,
   "metadata": {},
   "outputs": [],
   "source": [
    "BATCH_SIZE = 3\n",
    "SAVE_CHECKPOINT_PATH = \"../src/models/bert/clickbait\""
   ]
  },
  {
   "cell_type": "code",
   "execution_count": 26,
   "metadata": {},
   "outputs": [
    {
     "name": "stderr",
     "output_type": "stream",
     "text": [
      "Downloading builder script: 100%|██████████| 4.53k/4.53k [00:00<00:00, 4.09MB/s]\n",
      "Downloading extra modules: 100%|██████████| 3.32k/3.32k [00:00<00:00, 7.15MB/s]\n",
      "[nltk_data] Downloading package wordnet to\n",
      "[nltk_data]     /Users/ddsantos/nltk_data...\n",
      "[nltk_data]   Package wordnet is already up-to-date!\n",
      "[nltk_data] Downloading package punkt to /Users/ddsantos/nltk_data...\n",
      "[nltk_data]   Package punkt is already up-to-date!\n",
      "[nltk_data] Downloading package omw-1.4 to\n",
      "[nltk_data]     /Users/ddsantos/nltk_data...\n",
      "[nltk_data]   Package omw-1.4 is already up-to-date!\n",
      "Downloading (…)okenizer_config.json: 100%|██████████| 379/379 [00:00<00:00, 886kB/s]\n",
      "Downloading spm.model: 100%|██████████| 2.46M/2.46M [00:00<00:00, 2.84MB/s]\n",
      "Downloading tokenizer.json: 100%|██████████| 8.65M/8.65M [00:01<00:00, 6.37MB/s]\n",
      "Downloading (…)in/added_tokens.json: 100%|██████████| 23.0/23.0 [00:00<00:00, 61.0kB/s]\n",
      "Downloading (…)cial_tokens_map.json: 100%|██████████| 173/173 [00:00<00:00, 485kB/s]\n"
     ]
    },
    {
     "name": "stdout",
     "output_type": "stream",
     "text": [
      "Metal device set to: Apple M1\n",
      "\n",
      "systemMemory: 8.00 GB\n",
      "maxCacheSize: 2.67 GB\n",
      "\n"
     ]
    },
    {
     "name": "stderr",
     "output_type": "stream",
     "text": [
      "All model checkpoint layers were used when initializing TFDebertaV2ForQuestionAnswering.\n",
      "\n",
      "All the layers of TFDebertaV2ForQuestionAnswering were initialized from the model checkpoint at ../src/models/bert/clickbait.\n",
      "If your task is similar to the task the model of the checkpoint was trained on, you can already use TFDebertaV2ForQuestionAnswering for predictions without further training.\n"
     ]
    }
   ],
   "source": [
    "from utils.bert import TOKENIZER\n",
    "from transformers import TFAutoModelForQuestionAnswering\n",
    "\n",
    "model = TFAutoModelForQuestionAnswering.from_pretrained(SAVE_CHECKPOINT_PATH)"
   ]
  },
  {
   "cell_type": "code",
   "execution_count": 27,
   "metadata": {},
   "outputs": [
    {
     "name": "stdout",
     "output_type": "stream",
     "text": [
      "Downloading and preparing dataset clickbait_data/default to /Users/ddsantos/.cache/huggingface/datasets/clickbait_data/default-e72966e7874160b4/0.0.0/2132235c1c29143999b3a1b191327cbddac13587917dfde07b49cb535c8668f7...\n"
     ]
    },
    {
     "name": "stderr",
     "output_type": "stream",
     "text": [
      "Downloading data files: 100%|██████████| 3/3 [00:00<00:00, 4230.97it/s]\n",
      "                                                                 \r"
     ]
    },
    {
     "name": "stdout",
     "output_type": "stream",
     "text": [
      "Dataset clickbait_data downloaded and prepared to /Users/ddsantos/.cache/huggingface/datasets/clickbait_data/default-e72966e7874160b4/0.0.0/2132235c1c29143999b3a1b191327cbddac13587917dfde07b49cb535c8668f7. Subsequent calls will reuse this data.\n"
     ]
    },
    {
     "name": "stderr",
     "output_type": "stream",
     "text": [
      "100%|██████████| 3/3 [00:00<00:00, 403.89it/s]\n"
     ]
    }
   ],
   "source": [
    "from datasets import load_dataset\n",
    "\n",
    "raw_datasets = load_dataset(\"../data/parsed/bert/clickbait_data.py\", data_files={\n",
    "    \"train\": \"train.jsonl\", \n",
    "    \"test\": \"test.jsonl\", \n",
    "    \"validation\": \"validation.jsonl\"\n",
    "})"
   ]
  },
  {
   "attachments": {},
   "cell_type": "markdown",
   "metadata": {},
   "source": [
    "## Validation"
   ]
  },
  {
   "cell_type": "code",
   "execution_count": 28,
   "metadata": {},
   "outputs": [
    {
     "name": "stderr",
     "output_type": "stream",
     "text": [
      "                                                            \r"
     ]
    },
    {
     "data": {
      "text/plain": [
       "(67, 172)"
      ]
     },
     "execution_count": 28,
     "metadata": {},
     "output_type": "execute_result"
    }
   ],
   "source": [
    "import utils.bert\n",
    "\n",
    "raw_validation = raw_datasets[\"validation\"].filter(lambda x: x[\"type\"]==\"phrase\")\n",
    "validation_dataset = raw_validation.map(\n",
    "    utils.bert.preprocess_validation,\n",
    "    batched=True,\n",
    "    remove_columns=raw_validation.column_names,\n",
    ")\n",
    "len(raw_validation), len(validation_dataset)"
   ]
  },
  {
   "cell_type": "code",
   "execution_count": 29,
   "metadata": {},
   "outputs": [],
   "source": [
    "from transformers import DefaultDataCollator\n",
    "data_collator = DefaultDataCollator(return_tensors=\"tf\")\n",
    "\n",
    "tf_val_dataset = model.prepare_tf_dataset(\n",
    "    validation_dataset,\n",
    "    collate_fn=data_collator,\n",
    "    shuffle=False,\n",
    "    batch_size=BATCH_SIZE\n",
    ")"
   ]
  },
  {
   "attachments": {},
   "cell_type": "markdown",
   "metadata": {},
   "source": [
    "Predicting"
   ]
  },
  {
   "cell_type": "code",
   "execution_count": 30,
   "metadata": {},
   "outputs": [
    {
     "name": "stderr",
     "output_type": "stream",
     "text": [
      "2023-06-12 12:47:13.096157: W tensorflow/tsl/platform/profile_utils/cpu_utils.cc:128] Failed to get CPU frequency: 0 Hz\n"
     ]
    },
    {
     "name": "stdout",
     "output_type": "stream",
     "text": [
      "58/58 [==============================] - 225s 4s/step\n"
     ]
    }
   ],
   "source": [
    "val_predictions = model.predict(tf_val_dataset)"
   ]
  },
  {
   "cell_type": "code",
   "execution_count": 31,
   "metadata": {},
   "outputs": [
    {
     "name": "stderr",
     "output_type": "stream",
     "text": [
      "100%|██████████| 67/67 [00:00<00:00, 92.84it/s] \n",
      "Downloading (…)okenizer_config.json: 100%|██████████| 52.0/52.0 [00:00<00:00, 31.6kB/s]\n",
      "Downloading (…)lve/main/config.json: 100%|██████████| 474/474 [00:00<00:00, 1.76MB/s]\n",
      "Downloading (…)olve/main/vocab.json: 100%|██████████| 899k/899k [00:00<00:00, 1.77MB/s]\n",
      "Downloading (…)olve/main/merges.txt: 100%|██████████| 456k/456k [00:00<00:00, 6.38MB/s]\n",
      "Downloading pytorch_model.bin: 100%|██████████| 559M/559M [00:56<00:00, 9.96MB/s] \n"
     ]
    },
    {
     "data": {
      "text/plain": [
       "{'SQUAD': {'exact_match': 1.492537313432836, 'f1': 8.339947420090184},\n",
       " 'Meteor': {'meteor': 0.09876059326290751},\n",
       " 'BLEU-4': {'bleu': 0.0754204813661803,\n",
       "  'precisions': [0.1188118811881188,\n",
       "   0.0962962962962963,\n",
       "   0.058823529411764705,\n",
       "   0.04807692307692308],\n",
       "  'brevity_penalty': 1.0,\n",
       "  'length_ratio': 1.2023809523809523,\n",
       "  'translation_length': 202,\n",
       "  'reference_length': 168},\n",
       " 'BERTscore': {'precision': [0.6858652234077454,\n",
       "   0.9978945255279541,\n",
       "   0.7536396980285645,\n",
       "   0.859261691570282,\n",
       "   0.576566219329834,\n",
       "   0.8004264831542969,\n",
       "   0.7260451316833496,\n",
       "   0.5866855978965759,\n",
       "   0.9180625081062317,\n",
       "   0.7850437164306641,\n",
       "   0.8213838338851929,\n",
       "   0.9060192108154297,\n",
       "   0.8768811821937561,\n",
       "   0.6666163802146912,\n",
       "   0.7942656874656677,\n",
       "   0.5862159729003906,\n",
       "   1.000000238418579,\n",
       "   0.808795154094696,\n",
       "   0.8258749842643738,\n",
       "   0.9978930354118347,\n",
       "   0.8620088696479797,\n",
       "   0.7536070346832275,\n",
       "   0.884465217590332,\n",
       "   0.9978926181793213,\n",
       "   0.6067018508911133,\n",
       "   0.7882150411605835,\n",
       "   0.6594747304916382,\n",
       "   0.7789087891578674,\n",
       "   0.6966547966003418,\n",
       "   0.6940003037452698,\n",
       "   0.8525252938270569,\n",
       "   0.7425307631492615,\n",
       "   0.8089984059333801,\n",
       "   0.71610426902771,\n",
       "   0.9978961944580078,\n",
       "   0.6561990976333618,\n",
       "   0.7872284054756165,\n",
       "   0.6787269711494446,\n",
       "   0.6192343831062317,\n",
       "   0.8283082842826843,\n",
       "   0.5767428278923035,\n",
       "   0.6289162635803223,\n",
       "   0.8290941119194031,\n",
       "   0.6196843385696411,\n",
       "   0.6739349365234375,\n",
       "   0.6900205612182617,\n",
       "   0.588212788105011,\n",
       "   0.5657891631126404,\n",
       "   0.6027985215187073,\n",
       "   0.7509105205535889,\n",
       "   0.7826389670372009,\n",
       "   0.8363631367683411,\n",
       "   0.724352240562439,\n",
       "   0.7984530329704285,\n",
       "   0.4864007830619812,\n",
       "   0.9978947043418884,\n",
       "   0.48816776275634766,\n",
       "   0.8257414698600769,\n",
       "   0.8333824276924133,\n",
       "   0.5775020122528076,\n",
       "   0.8383952379226685,\n",
       "   0.8818632960319519,\n",
       "   0.6127321124076843,\n",
       "   0.8150431513786316,\n",
       "   0.7415070533752441,\n",
       "   0.5573861598968506,\n",
       "   0.742089569568634],\n",
       "  'recall': [0.7090439200401306,\n",
       "   0.5205508470535278,\n",
       "   0.5460327863693237,\n",
       "   0.540108323097229,\n",
       "   0.6263198852539062,\n",
       "   0.49879971146583557,\n",
       "   0.49589869379997253,\n",
       "   0.5237524509429932,\n",
       "   0.9180625081062317,\n",
       "   0.5366829037666321,\n",
       "   0.5000505447387695,\n",
       "   0.9060192108154297,\n",
       "   0.5035821199417114,\n",
       "   0.889957070350647,\n",
       "   0.6728309392929077,\n",
       "   0.6054491400718689,\n",
       "   1.000000238418579,\n",
       "   0.5128539800643921,\n",
       "   0.6075929403305054,\n",
       "   0.4921833276748657,\n",
       "   0.8415496945381165,\n",
       "   0.5511097311973572,\n",
       "   0.8337759375572205,\n",
       "   0.567687451839447,\n",
       "   0.5816974639892578,\n",
       "   0.6414278745651245,\n",
       "   0.6815389394760132,\n",
       "   0.602054238319397,\n",
       "   0.6607562303543091,\n",
       "   0.6132506132125854,\n",
       "   0.6572025418281555,\n",
       "   0.5711585283279419,\n",
       "   0.6958964467048645,\n",
       "   0.8008537292480469,\n",
       "   0.5904693603515625,\n",
       "   0.5908842086791992,\n",
       "   0.4863933026790619,\n",
       "   0.8653959035873413,\n",
       "   0.8637853860855103,\n",
       "   0.5629231929779053,\n",
       "   0.6218484044075012,\n",
       "   0.5554009675979614,\n",
       "   0.7140074968338013,\n",
       "   0.6506118774414062,\n",
       "   0.6238098740577698,\n",
       "   0.5203725695610046,\n",
       "   0.592353105545044,\n",
       "   0.5896483659744263,\n",
       "   0.5782402753829956,\n",
       "   0.7509105205535889,\n",
       "   0.6294020414352417,\n",
       "   0.5321869254112244,\n",
       "   0.5032488107681274,\n",
       "   0.7643022537231445,\n",
       "   0.571703314781189,\n",
       "   0.5263049602508545,\n",
       "   0.6737297177314758,\n",
       "   0.6171016693115234,\n",
       "   0.9877931475639343,\n",
       "   0.4710797667503357,\n",
       "   0.6048702597618103,\n",
       "   0.8818632960319519,\n",
       "   0.572234034538269,\n",
       "   1.0000001192092896,\n",
       "   0.8147375583648682,\n",
       "   0.6146573424339294,\n",
       "   0.5528929233551025],\n",
       "  'f1': [0.6972619891166687,\n",
       "   0.6841930150985718,\n",
       "   0.633254885673523,\n",
       "   0.6632905006408691,\n",
       "   0.6004140973091125,\n",
       "   0.6146004796028137,\n",
       "   0.5892984867095947,\n",
       "   0.5534356236457825,\n",
       "   0.9180625081062317,\n",
       "   0.6375290751457214,\n",
       "   0.6216478943824768,\n",
       "   0.9060192108154297,\n",
       "   0.6397586464881897,\n",
       "   0.76226407289505,\n",
       "   0.7285226583480835,\n",
       "   0.5956773161888123,\n",
       "   1.000000238418579,\n",
       "   0.6276913285255432,\n",
       "   0.7001144886016846,\n",
       "   0.6592230796813965,\n",
       "   0.8516563773155212,\n",
       "   0.6366441249847412,\n",
       "   0.8583728671073914,\n",
       "   0.7236820459365845,\n",
       "   0.5939366221427917,\n",
       "   0.7072858810424805,\n",
       "   0.6703253388404846,\n",
       "   0.6791568994522095,\n",
       "   0.6782308220863342,\n",
       "   0.6511314511299133,\n",
       "   0.7422289252281189,\n",
       "   0.6456668376922607,\n",
       "   0.7481972575187683,\n",
       "   0.7561116218566895,\n",
       "   0.7419288754463196,\n",
       "   0.6218312382698059,\n",
       "   0.6012815833091736,\n",
       "   0.7607781887054443,\n",
       "   0.7213464975357056,\n",
       "   0.6703038811683655,\n",
       "   0.5984469056129456,\n",
       "   0.5898769497871399,\n",
       "   0.7672591209411621,\n",
       "   0.6347715854644775,\n",
       "   0.6479043960571289,\n",
       "   0.5933076739311218,\n",
       "   0.5902757048606873,\n",
       "   0.577472448348999,\n",
       "   0.5902640223503113,\n",
       "   0.7509105205535889,\n",
       "   0.6977058053016663,\n",
       "   0.6504716873168945,\n",
       "   0.593889057636261,\n",
       "   0.7810044884681702,\n",
       "   0.5256136059761047,\n",
       "   0.689144492149353,\n",
       "   0.5661311149597168,\n",
       "   0.706336498260498,\n",
       "   0.9040418267250061,\n",
       "   0.518890380859375,\n",
       "   0.7027402520179749,\n",
       "   0.8818633556365967,\n",
       "   0.5917910933494568,\n",
       "   0.8980979323387146,\n",
       "   0.7763993740081787,\n",
       "   0.5846225023269653,\n",
       "   0.6336705088615417],\n",
       "  'hashcode': 'microsoft/deberta-base_L9_no-idf_version=0.3.12(hug_trans=4.29.2)'}}"
      ]
     },
     "execution_count": 31,
     "metadata": {},
     "output_type": "execute_result"
    }
   ],
   "source": [
    "val_metrics = utils.bert.compute_metrics(\n",
    "    val_predictions[\"start_logits\"],\n",
    "    val_predictions[\"end_logits\"],\n",
    "    validation_dataset,\n",
    "    raw_validation,\n",
    ")\n",
    "val_metrics"
   ]
  },
  {
   "cell_type": "code",
   "execution_count": 32,
   "metadata": {},
   "outputs": [
    {
     "name": "stderr",
     "output_type": "stream",
     "text": [
      "All model checkpoint layers were used when initializing TFDebertaV2ForQuestionAnswering.\n",
      "\n",
      "All the layers of TFDebertaV2ForQuestionAnswering were initialized from the model checkpoint at ../src/models/bert/clickbait.\n",
      "If your task is similar to the task the model of the checkpoint was trained on, you can already use TFDebertaV2ForQuestionAnswering for predictions without further training.\n"
     ]
    }
   ],
   "source": [
    "from transformers import pipeline\n",
    "question_answerer = pipeline(\"question-answering\", model=SAVE_CHECKPOINT_PATH, tokenizer=TOKENIZER)"
   ]
  },
  {
   "cell_type": "code",
   "execution_count": 33,
   "metadata": {},
   "outputs": [],
   "source": [
    "val_predictions = question_answerer(question=raw_validation[\"question\"], context=raw_validation[\"context\"])\n",
    "\n",
    "val_predicted_answers = [prediction[\"answer\"] for prediction in val_predictions]\n",
    "val_expected_answers = [answer[\"text\"][0] for answer in raw_validation[\"answers\"]]"
   ]
  },
  {
   "cell_type": "code",
   "execution_count": 34,
   "metadata": {},
   "outputs": [],
   "source": [
    "# utils.write_results(\"../data/results/bert/validation.csv\", [{\n",
    "#     \"prediction\": prediction.strip(),\n",
    "#     \"completion\": completion.strip()\n",
    "# } for prediction, completion in zip(val_predicted_answers, val_expected_answers)])"
   ]
  },
  {
   "attachments": {},
   "cell_type": "markdown",
   "metadata": {},
   "source": [
    "## Test"
   ]
  },
  {
   "cell_type": "code",
   "execution_count": 35,
   "metadata": {},
   "outputs": [
    {
     "name": "stderr",
     "output_type": "stream",
     "text": [
      "                                                                  \r"
     ]
    },
    {
     "data": {
      "text/plain": [
       "(268, 561)"
      ]
     },
     "execution_count": 35,
     "metadata": {},
     "output_type": "execute_result"
    }
   ],
   "source": [
    "raw_test = raw_datasets[\"test\"].filter(lambda x: x[\"type\"]==\"phrase\")\n",
    "test_dataset = raw_test.map(\n",
    "    utils.bert.preprocess_validation,\n",
    "    batched=True,\n",
    "    remove_columns=raw_test.column_names,\n",
    ")\n",
    "len(raw_test), len(test_dataset)"
   ]
  },
  {
   "cell_type": "code",
   "execution_count": 36,
   "metadata": {},
   "outputs": [],
   "source": [
    "tf_test_dataset = model.prepare_tf_dataset(\n",
    "    test_dataset,\n",
    "    collate_fn=data_collator,\n",
    "    shuffle=False,\n",
    "    batch_size=BATCH_SIZE\n",
    ")"
   ]
  },
  {
   "attachments": {},
   "cell_type": "markdown",
   "metadata": {},
   "source": [
    "Predicting"
   ]
  },
  {
   "cell_type": "code",
   "execution_count": 37,
   "metadata": {},
   "outputs": [
    {
     "name": "stdout",
     "output_type": "stream",
     "text": [
      "187/187 [==============================] - 571s 3s/step\n"
     ]
    }
   ],
   "source": [
    "test_predictions = model.predict(tf_test_dataset)"
   ]
  },
  {
   "cell_type": "code",
   "execution_count": 38,
   "metadata": {},
   "outputs": [
    {
     "name": "stderr",
     "output_type": "stream",
     "text": [
      "100%|██████████| 268/268 [00:02<00:00, 107.13it/s]\n"
     ]
    },
    {
     "data": {
      "text/plain": [
       "{'SQUAD': {'exact_match': 9.328358208955224, 'f1': 12.50087479180982},\n",
       " 'Meteor': {'meteor': 0.13961526195797755},\n",
       " 'BLEU-4': {'bleu': 0.03323292412639024,\n",
       "  'precisions': [0.1091127098321343,\n",
       "   0.061837455830388695,\n",
       "   0.020202020202020204,\n",
       "   0.008948545861297539],\n",
       "  'brevity_penalty': 1.0,\n",
       "  'length_ratio': 1.215743440233236,\n",
       "  'translation_length': 834,\n",
       "  'reference_length': 686},\n",
       " 'BERTscore': {'precision': [0.9999998211860657,\n",
       "   0.6120502948760986,\n",
       "   0.9978950023651123,\n",
       "   0.7967748641967773,\n",
       "   0.7692604660987854,\n",
       "   0.9978941679000854,\n",
       "   0.7765107750892639,\n",
       "   0.8461945652961731,\n",
       "   0.8176360726356506,\n",
       "   0.5526825189590454,\n",
       "   0.9999997615814209,\n",
       "   0.8616260886192322,\n",
       "   1.0000001192092896,\n",
       "   0.8160631060600281,\n",
       "   0.8596373796463013,\n",
       "   0.9978932738304138,\n",
       "   0.8572559356689453,\n",
       "   0.8181390166282654,\n",
       "   0.9978954792022705,\n",
       "   0.745299220085144,\n",
       "   0.578849732875824,\n",
       "   0.9416104555130005,\n",
       "   0.803884744644165,\n",
       "   0.8083292841911316,\n",
       "   0.8940995931625366,\n",
       "   0.5969405174255371,\n",
       "   0.7550269365310669,\n",
       "   0.538474440574646,\n",
       "   0.8766553401947021,\n",
       "   0.7348096370697021,\n",
       "   0.8494231700897217,\n",
       "   0.8317741751670837,\n",
       "   0.8898731470108032,\n",
       "   0.7361068725585938,\n",
       "   0.7842487692832947,\n",
       "   0.9978960752487183,\n",
       "   0.6906854510307312,\n",
       "   0.780960738658905,\n",
       "   0.5464668869972229,\n",
       "   1.000000238418579,\n",
       "   0.7921634912490845,\n",
       "   0.8466397523880005,\n",
       "   0.8854277729988098,\n",
       "   0.7958563566207886,\n",
       "   0.5682995319366455,\n",
       "   0.6900060176849365,\n",
       "   0.8536909818649292,\n",
       "   0.6738773584365845,\n",
       "   0.9978952407836914,\n",
       "   0.461008220911026,\n",
       "   0.9978907704353333,\n",
       "   0.5535449981689453,\n",
       "   0.8293041586875916,\n",
       "   0.9978920817375183,\n",
       "   0.70868980884552,\n",
       "   0.7265596389770508,\n",
       "   0.9978950023651123,\n",
       "   0.7979551553726196,\n",
       "   0.7599857449531555,\n",
       "   0.9999998211860657,\n",
       "   0.5704904198646545,\n",
       "   0.8061915040016174,\n",
       "   0.8163067102432251,\n",
       "   0.8413994312286377,\n",
       "   0.7937486171722412,\n",
       "   0.5503234267234802,\n",
       "   0.9978955984115601,\n",
       "   0.6327617168426514,\n",
       "   0.7449498176574707,\n",
       "   0.7741712927818298,\n",
       "   0.6325446963310242,\n",
       "   0.5790565013885498,\n",
       "   0.9999998807907104,\n",
       "   0.9978976249694824,\n",
       "   0.5609570741653442,\n",
       "   0.8487552404403687,\n",
       "   0.7428829669952393,\n",
       "   0.6149505376815796,\n",
       "   0.9999998807907104,\n",
       "   0.7864257097244263,\n",
       "   0.8130468130111694,\n",
       "   0.671495795249939,\n",
       "   0.5887009501457214,\n",
       "   0.6254482269287109,\n",
       "   0.7945317029953003,\n",
       "   1.000000238418579,\n",
       "   0.8517137169837952,\n",
       "   0.9978958964347839,\n",
       "   0.8048405051231384,\n",
       "   1.0,\n",
       "   0.6273847222328186,\n",
       "   0.7535204291343689,\n",
       "   0.7035489678382874,\n",
       "   0.8751919865608215,\n",
       "   0.7827265858650208,\n",
       "   0.88294917345047,\n",
       "   0.7370464205741882,\n",
       "   0.7834748029708862,\n",
       "   0.6103577613830566,\n",
       "   0.8173335194587708,\n",
       "   0.5939340591430664,\n",
       "   0.5583582520484924,\n",
       "   0.8357195854187012,\n",
       "   0.9999996423721313,\n",
       "   0.5669232606887817,\n",
       "   0.8109006285667419,\n",
       "   0.7030088901519775,\n",
       "   0.5882375240325928,\n",
       "   0.7418398261070251,\n",
       "   0.997894823551178,\n",
       "   0.5666965842247009,\n",
       "   0.9978938698768616,\n",
       "   0.8121594786643982,\n",
       "   0.8428043127059937,\n",
       "   0.8135920763015747,\n",
       "   0.6766682267189026,\n",
       "   0.8296058177947998,\n",
       "   0.7845821380615234,\n",
       "   1.000000238418579,\n",
       "   0.5655635595321655,\n",
       "   0.6090654134750366,\n",
       "   0.997896134853363,\n",
       "   1.0000001192092896,\n",
       "   0.8413683772087097,\n",
       "   0.997895359992981,\n",
       "   0.9999998211860657,\n",
       "   0.9978883266448975,\n",
       "   0.7189507484436035,\n",
       "   0.7837275862693787,\n",
       "   0.5949570536613464,\n",
       "   0.9978957772254944,\n",
       "   0.9978943467140198,\n",
       "   0.9978960752487183,\n",
       "   0.6124252080917358,\n",
       "   0.5700349807739258,\n",
       "   0.8509445190429688,\n",
       "   0.8227357864379883,\n",
       "   0.8597121834754944,\n",
       "   0.6318070292472839,\n",
       "   0.5837144255638123,\n",
       "   0.8044455051422119,\n",
       "   0.997894287109375,\n",
       "   0.7926145195960999,\n",
       "   0.9978953003883362,\n",
       "   0.8149636387825012,\n",
       "   0.599228024482727,\n",
       "   0.7832649946212769,\n",
       "   0.6031541228294373,\n",
       "   0.8576956987380981,\n",
       "   0.8099409341812134,\n",
       "   0.9978945255279541,\n",
       "   0.9998044967651367,\n",
       "   0.9999999403953552,\n",
       "   0.8205362558364868,\n",
       "   0.9978963136672974,\n",
       "   0.8270894289016724,\n",
       "   0.8555624485015869,\n",
       "   0.9031274914741516,\n",
       "   0.5509471893310547,\n",
       "   0.7751429677009583,\n",
       "   0.7631577253341675,\n",
       "   0.6820743083953857,\n",
       "   0.8097878098487854,\n",
       "   0.9999996423721313,\n",
       "   0.9978950619697571,\n",
       "   0.6223962306976318,\n",
       "   0.8092557191848755,\n",
       "   0.7803629040718079,\n",
       "   0.6196209788322449,\n",
       "   0.5602959990501404,\n",
       "   1.000000238418579,\n",
       "   0.6886730194091797,\n",
       "   0.6606324315071106,\n",
       "   0.7933000326156616,\n",
       "   0.6812138557434082,\n",
       "   0.6822936534881592,\n",
       "   0.6415987014770508,\n",
       "   0.533234715461731,\n",
       "   0.5707089900970459,\n",
       "   1.0,\n",
       "   0.6349664330482483,\n",
       "   0.9978956580162048,\n",
       "   0.583175539970398,\n",
       "   0.6497902870178223,\n",
       "   0.997894823551178,\n",
       "   0.6245277523994446,\n",
       "   0.9371755123138428,\n",
       "   0.6979082822799683,\n",
       "   0.598956286907196,\n",
       "   0.4860002398490906,\n",
       "   0.77207350730896,\n",
       "   1.000000238418579,\n",
       "   0.6085087656974792,\n",
       "   0.9978947043418884,\n",
       "   0.8427914977073669,\n",
       "   0.8622006773948669,\n",
       "   0.8404682278633118,\n",
       "   0.9978948831558228,\n",
       "   0.997895359992981,\n",
       "   0.7497031092643738,\n",
       "   0.8587684035301208,\n",
       "   0.7225592732429504,\n",
       "   0.8118899464607239,\n",
       "   0.73309725522995,\n",
       "   0.8418418169021606,\n",
       "   0.8577591180801392,\n",
       "   0.8463402390480042,\n",
       "   0.6548603773117065,\n",
       "   0.5930773019790649,\n",
       "   0.7836248278617859,\n",
       "   0.6052757501602173,\n",
       "   0.8287672996520996,\n",
       "   0.553101658821106,\n",
       "   0.6697607040405273,\n",
       "   0.8618351817131042,\n",
       "   0.8512275815010071,\n",
       "   0.9978951811790466,\n",
       "   0.7419961094856262,\n",
       "   1.0000004768371582,\n",
       "   0.9978988766670227,\n",
       "   0.9999998211860657,\n",
       "   0.789677619934082,\n",
       "   0.8176683187484741,\n",
       "   0.7887591123580933,\n",
       "   1.0,\n",
       "   0.9978960752487183,\n",
       "   0.8040634393692017,\n",
       "   0.9978936314582825,\n",
       "   0.4018620550632477,\n",
       "   0.6979824900627136,\n",
       "   0.8466055393218994,\n",
       "   0.8264570832252502,\n",
       "   0.9999998807907104,\n",
       "   0.9978946447372437,\n",
       "   1.000000238418579,\n",
       "   1.0,\n",
       "   0.8109622001647949,\n",
       "   0.830863356590271,\n",
       "   0.8056873679161072,\n",
       "   0.9978936910629272,\n",
       "   0.8047065734863281,\n",
       "   0.7630209922790527,\n",
       "   0.5770610570907593,\n",
       "   0.6270998120307922,\n",
       "   1.0000001192092896,\n",
       "   0.8388442397117615,\n",
       "   0.579154372215271,\n",
       "   0.7717856168746948,\n",
       "   0.8092698454856873,\n",
       "   0.6108307242393494,\n",
       "   0.48654434084892273,\n",
       "   0.9978940486907959,\n",
       "   0.8038817644119263,\n",
       "   0.8510297536849976,\n",
       "   0.9999995231628418,\n",
       "   0.9978950619697571,\n",
       "   0.8290465474128723,\n",
       "   0.9999992251396179,\n",
       "   0.7819517850875854,\n",
       "   0.8480147123336792,\n",
       "   0.5734215378761292,\n",
       "   0.5983871221542358,\n",
       "   0.7763314843177795,\n",
       "   0.8288593292236328,\n",
       "   0.7201093435287476,\n",
       "   0.4757236838340759,\n",
       "   0.9978951811790466,\n",
       "   0.9978955984115601],\n",
       "  'recall': [0.9999998211860657,\n",
       "   0.5416509509086609,\n",
       "   0.5327544808387756,\n",
       "   0.6395693421363831,\n",
       "   0.6337215900421143,\n",
       "   0.5105646252632141,\n",
       "   0.5663061141967773,\n",
       "   0.5857224464416504,\n",
       "   0.6477475762367249,\n",
       "   0.49405303597450256,\n",
       "   0.9999997615814209,\n",
       "   0.5220446586608887,\n",
       "   1.0000001192092896,\n",
       "   0.7113727927207947,\n",
       "   0.5930535197257996,\n",
       "   0.5305590629577637,\n",
       "   0.4665850102901459,\n",
       "   0.5019594430923462,\n",
       "   0.5764176845550537,\n",
       "   0.47844958305358887,\n",
       "   0.757321298122406,\n",
       "   0.9416104555130005,\n",
       "   0.6469718217849731,\n",
       "   0.7250847816467285,\n",
       "   0.5826899409294128,\n",
       "   0.48808908462524414,\n",
       "   0.6200148463249207,\n",
       "   0.7122381925582886,\n",
       "   0.6866550445556641,\n",
       "   0.641432523727417,\n",
       "   0.5944942235946655,\n",
       "   0.6855562925338745,\n",
       "   0.881049394607544,\n",
       "   0.48846784234046936,\n",
       "   0.5315675139427185,\n",
       "   0.5953123569488525,\n",
       "   0.6785071492195129,\n",
       "   0.3919236958026886,\n",
       "   0.6106692552566528,\n",
       "   1.000000238418579,\n",
       "   0.705784797668457,\n",
       "   0.805370569229126,\n",
       "   0.568583607673645,\n",
       "   0.6005167961120605,\n",
       "   0.4215424656867981,\n",
       "   0.6338516473770142,\n",
       "   0.6165034174919128,\n",
       "   0.652387261390686,\n",
       "   0.8261501789093018,\n",
       "   0.712138831615448,\n",
       "   0.43050432205200195,\n",
       "   0.7105453014373779,\n",
       "   0.42496457695961,\n",
       "   0.44626930356025696,\n",
       "   0.7289373874664307,\n",
       "   0.601593554019928,\n",
       "   0.5297362804412842,\n",
       "   0.7303214073181152,\n",
       "   0.48735108971595764,\n",
       "   0.9999998211860657,\n",
       "   0.6333962082862854,\n",
       "   0.6530650854110718,\n",
       "   0.5304710865020752,\n",
       "   0.626457691192627,\n",
       "   0.5067264437675476,\n",
       "   0.5733633041381836,\n",
       "   0.569472074508667,\n",
       "   0.6372072100639343,\n",
       "   0.46642419695854187,\n",
       "   0.5458343029022217,\n",
       "   0.6176260709762573,\n",
       "   0.6016783714294434,\n",
       "   0.9999998807907104,\n",
       "   0.5634831190109253,\n",
       "   0.4830939769744873,\n",
       "   0.6682901382446289,\n",
       "   0.6135620474815369,\n",
       "   0.6169254779815674,\n",
       "   0.9999998807907104,\n",
       "   0.49874287843704224,\n",
       "   0.5459425449371338,\n",
       "   0.7137956619262695,\n",
       "   0.5517420172691345,\n",
       "   0.5923523306846619,\n",
       "   0.5154189467430115,\n",
       "   1.000000238418579,\n",
       "   0.5011606812477112,\n",
       "   0.47543641924858093,\n",
       "   0.8043990135192871,\n",
       "   1.0,\n",
       "   0.6353819966316223,\n",
       "   0.5633609294891357,\n",
       "   0.6854481101036072,\n",
       "   0.6677113771438599,\n",
       "   0.5518914461135864,\n",
       "   0.6051926016807556,\n",
       "   0.5325335264205933,\n",
       "   0.5326000452041626,\n",
       "   0.6804769039154053,\n",
       "   0.5648834705352783,\n",
       "   0.6886247396469116,\n",
       "   0.4334886372089386,\n",
       "   0.7507771253585815,\n",
       "   0.9999996423721313,\n",
       "   0.55888831615448,\n",
       "   0.7388954162597656,\n",
       "   0.6399462223052979,\n",
       "   0.786252498626709,\n",
       "   0.9035316705703735,\n",
       "   0.5777174234390259,\n",
       "   0.54476398229599,\n",
       "   0.47657662630081177,\n",
       "   0.5331186056137085,\n",
       "   0.5370023250579834,\n",
       "   0.5822851657867432,\n",
       "   0.6706864833831787,\n",
       "   0.52225661277771,\n",
       "   0.7845821380615234,\n",
       "   1.000000238418579,\n",
       "   0.5273385643959045,\n",
       "   0.508197546005249,\n",
       "   0.5152057409286499,\n",
       "   1.0000001192092896,\n",
       "   0.8737428188323975,\n",
       "   0.586881160736084,\n",
       "   0.9999998211860657,\n",
       "   0.3592671751976013,\n",
       "   0.5984578132629395,\n",
       "   0.5730950832366943,\n",
       "   0.6676822900772095,\n",
       "   0.5403907299041748,\n",
       "   0.5444135665893555,\n",
       "   0.4842359721660614,\n",
       "   0.5799750685691833,\n",
       "   0.40485048294067383,\n",
       "   0.6335045099258423,\n",
       "   0.5596013069152832,\n",
       "   0.6536698341369629,\n",
       "   0.7408881783485413,\n",
       "   0.7604084014892578,\n",
       "   0.7230105400085449,\n",
       "   0.6016438603401184,\n",
       "   0.5703365206718445,\n",
       "   0.5548498630523682,\n",
       "   0.5679411292076111,\n",
       "   0.5908224582672119,\n",
       "   0.7981588840484619,\n",
       "   0.6990078091621399,\n",
       "   0.45980027318000793,\n",
       "   0.5949525237083435,\n",
       "   0.5303800702095032,\n",
       "   0.6035556793212891,\n",
       "   0.9999999403953552,\n",
       "   0.6436024904251099,\n",
       "   0.49546563625335693,\n",
       "   0.5948041081428528,\n",
       "   0.5059967041015625,\n",
       "   0.8723637461662292,\n",
       "   0.4502928853034973,\n",
       "   0.5813555121421814,\n",
       "   0.5781283974647522,\n",
       "   0.6674752235412598,\n",
       "   0.5899680256843567,\n",
       "   0.9999996423721313,\n",
       "   0.5654023289680481,\n",
       "   0.6083739995956421,\n",
       "   0.49547380208969116,\n",
       "   0.5479171872138977,\n",
       "   0.5555315613746643,\n",
       "   0.6417099237442017,\n",
       "   1.000000238418579,\n",
       "   0.657461404800415,\n",
       "   0.634382963180542,\n",
       "   0.682347297668457,\n",
       "   0.6812138557434082,\n",
       "   0.6822936534881592,\n",
       "   0.6360101103782654,\n",
       "   0.4921615719795227,\n",
       "   0.5941252708435059,\n",
       "   1.0,\n",
       "   0.6145601868629456,\n",
       "   0.6217249631881714,\n",
       "   0.44028496742248535,\n",
       "   0.6048610210418701,\n",
       "   0.8109015226364136,\n",
       "   0.7612504363059998,\n",
       "   0.9371755123138428,\n",
       "   0.6034439206123352,\n",
       "   0.5861107707023621,\n",
       "   0.6985989212989807,\n",
       "   0.647783637046814,\n",
       "   1.000000238418579,\n",
       "   0.676689863204956,\n",
       "   0.5213503241539001,\n",
       "   0.6013565063476562,\n",
       "   0.5684086680412292,\n",
       "   0.5948821306228638,\n",
       "   0.5675365924835205,\n",
       "   0.8213707804679871,\n",
       "   0.8354834318161011,\n",
       "   0.4919583201408386,\n",
       "   0.8099226355552673,\n",
       "   0.7046311497688293,\n",
       "   0.408498078584671,\n",
       "   0.48145586252212524,\n",
       "   0.6331765651702881,\n",
       "   0.48819416761398315,\n",
       "   0.7828447222709656,\n",
       "   0.5321872234344482,\n",
       "   0.5415126085281372,\n",
       "   0.6624757051467896,\n",
       "   0.5990723967552185,\n",
       "   0.5455837845802307,\n",
       "   0.6722590327262878,\n",
       "   0.5806440711021423,\n",
       "   0.6416731476783752,\n",
       "   0.5269002318382263,\n",
       "   0.7419961094856262,\n",
       "   1.0000004768371582,\n",
       "   0.6512184739112854,\n",
       "   0.3580673336982727,\n",
       "   0.6807875633239746,\n",
       "   0.7312216758728027,\n",
       "   0.737505316734314,\n",
       "   1.0,\n",
       "   0.5777549743652344,\n",
       "   0.6377952098846436,\n",
       "   0.4960283935070038,\n",
       "   0.6151401996612549,\n",
       "   0.6979824900627136,\n",
       "   0.610174298286438,\n",
       "   0.7286696434020996,\n",
       "   0.9999998807907104,\n",
       "   0.8293885588645935,\n",
       "   1.000000238418579,\n",
       "   0.508824348449707,\n",
       "   0.3986209034919739,\n",
       "   0.5788242816925049,\n",
       "   0.6339024305343628,\n",
       "   0.4898231625556946,\n",
       "   0.4985845386981964,\n",
       "   0.6661220192909241,\n",
       "   0.5445133447647095,\n",
       "   0.5719353556632996,\n",
       "   1.0000001192092896,\n",
       "   0.5955889225006104,\n",
       "   0.5526111721992493,\n",
       "   0.5505340695381165,\n",
       "   0.5200064182281494,\n",
       "   0.626930832862854,\n",
       "   0.671001136302948,\n",
       "   0.5582233667373657,\n",
       "   0.7078972458839417,\n",
       "   0.6933188438415527,\n",
       "   0.9999995231628418,\n",
       "   0.8290351629257202,\n",
       "   0.5632893443107605,\n",
       "   0.43058282136917114,\n",
       "   0.5016887784004211,\n",
       "   0.527451753616333,\n",
       "   0.5771932601928711,\n",
       "   0.8038703799247742,\n",
       "   0.5685458779335022,\n",
       "   0.9999904632568359,\n",
       "   0.7229464650154114,\n",
       "   0.6983064413070679,\n",
       "   0.5501551032066345,\n",
       "   0.5189229846000671],\n",
       "  'f1': [0.9999998211860657,\n",
       "   0.5747027397155762,\n",
       "   0.6946502923965454,\n",
       "   0.7095691561698914,\n",
       "   0.6949440240859985,\n",
       "   0.6755099296569824,\n",
       "   0.6549557447433472,\n",
       "   0.6922680139541626,\n",
       "   0.7228438258171082,\n",
       "   0.5217258334159851,\n",
       "   0.9999997615814209,\n",
       "   0.6501652002334595,\n",
       "   1.0000001192092896,\n",
       "   0.7601302266120911,\n",
       "   0.7018850445747375,\n",
       "   0.6927808523178101,\n",
       "   0.604276180267334,\n",
       "   0.6221848130226135,\n",
       "   0.7307372093200684,\n",
       "   0.5827798843383789,\n",
       "   0.6561663746833801,\n",
       "   0.9416104555130005,\n",
       "   0.7169430255889893,\n",
       "   0.7644474506378174,\n",
       "   0.7055614590644836,\n",
       "   0.537054717540741,\n",
       "   0.6808926463127136,\n",
       "   0.6132856607437134,\n",
       "   0.7701091766357422,\n",
       "   0.6849532723426819,\n",
       "   0.6994543671607971,\n",
       "   0.7516201138496399,\n",
       "   0.8854392766952515,\n",
       "   0.5872480273246765,\n",
       "   0.6336464881896973,\n",
       "   0.7457402944564819,\n",
       "   0.6845421195030212,\n",
       "   0.5219218730926514,\n",
       "   0.5767869353294373,\n",
       "   1.000000238418579,\n",
       "   0.7464836239814758,\n",
       "   0.8254896402359009,\n",
       "   0.6924838423728943,\n",
       "   0.6845235228538513,\n",
       "   0.484041690826416,\n",
       "   0.6607378721237183,\n",
       "   0.7159644365310669,\n",
       "   0.6629582047462463,\n",
       "   0.9039372801780701,\n",
       "   0.5596942901611328,\n",
       "   0.6015090346336365,\n",
       "   0.6222954392433167,\n",
       "   0.5619606971740723,\n",
       "   0.6167296767234802,\n",
       "   0.7186709642410278,\n",
       "   0.6581975817680359,\n",
       "   0.6920795440673828,\n",
       "   0.7626417279243469,\n",
       "   0.5938730835914612,\n",
       "   0.9999998211860657,\n",
       "   0.6002998352050781,\n",
       "   0.7215941548347473,\n",
       "   0.6430565118789673,\n",
       "   0.718191385269165,\n",
       "   0.6185638308525085,\n",
       "   0.5616071224212646,\n",
       "   0.7251312732696533,\n",
       "   0.6349766254425049,\n",
       "   0.5736669301986694,\n",
       "   0.6402536630630493,\n",
       "   0.6249963641166687,\n",
       "   0.5901507139205933,\n",
       "   0.9999998807907104,\n",
       "   0.7202579975128174,\n",
       "   0.5191221237182617,\n",
       "   0.7477887272834778,\n",
       "   0.6720578670501709,\n",
       "   0.6159363985061646,\n",
       "   0.9999998807907104,\n",
       "   0.6103855967521667,\n",
       "   0.6532455086708069,\n",
       "   0.6919999122619629,\n",
       "   0.5696225762367249,\n",
       "   0.6084505319595337,\n",
       "   0.625239908695221,\n",
       "   1.000000238418579,\n",
       "   0.6310200691223145,\n",
       "   0.644031286239624,\n",
       "   0.8046196699142456,\n",
       "   1.0,\n",
       "   0.6313580274581909,\n",
       "   0.6447110176086426,\n",
       "   0.6943805813789368,\n",
       "   0.7575012445449829,\n",
       "   0.6473463773727417,\n",
       "   0.7181497812271118,\n",
       "   0.6183177828788757,\n",
       "   0.6341261267662048,\n",
       "   0.6435129046440125,\n",
       "   0.6680546402931213,\n",
       "   0.6377838850021362,\n",
       "   0.48806312680244446,\n",
       "   0.7909743785858154,\n",
       "   0.9999996423721313,\n",
       "   0.5628771185874939,\n",
       "   0.7732252478599548,\n",
       "   0.6699968576431274,\n",
       "   0.6729815602302551,\n",
       "   0.8147409558296204,\n",
       "   0.7317805886268616,\n",
       "   0.555513858795166,\n",
       "   0.6450761556625366,\n",
       "   0.6436994075775146,\n",
       "   0.6560163497924805,\n",
       "   0.6787739992141724,\n",
       "   0.6736640930175781,\n",
       "   0.6409929394721985,\n",
       "   0.7845821380615234,\n",
       "   1.000000238418579,\n",
       "   0.5457825660705566,\n",
       "   0.554078221321106,\n",
       "   0.679560124874115,\n",
       "   1.0000001192092896,\n",
       "   0.8572499752044678,\n",
       "   0.7390896677970886,\n",
       "   0.9999998211860657,\n",
       "   0.5283234119415283,\n",
       "   0.653194010257721,\n",
       "   0.6620620489120483,\n",
       "   0.6292252540588379,\n",
       "   0.7011095285415649,\n",
       "   0.7044861316680908,\n",
       "   0.6520568132400513,\n",
       "   0.5957586169242859,\n",
       "   0.4734483063220978,\n",
       "   0.7262993454933167,\n",
       "   0.6661240458488464,\n",
       "   0.7426649928092957,\n",
       "   0.6820135712623596,\n",
       "   0.6604475975036621,\n",
       "   0.7615572214126587,\n",
       "   0.7506878972053528,\n",
       "   0.6633503437042236,\n",
       "   0.7131654620170593,\n",
       "   0.669390082359314,\n",
       "   0.5949955582618713,\n",
       "   0.7906418442726135,\n",
       "   0.647553026676178,\n",
       "   0.5986640453338623,\n",
       "   0.6859971284866333,\n",
       "   0.6926286816596985,\n",
       "   0.7527163028717041,\n",
       "   0.9999999403953552,\n",
       "   0.7213786244392395,\n",
       "   0.6621614098548889,\n",
       "   0.6919733285903931,\n",
       "   0.635905921459198,\n",
       "   0.8874791264533997,\n",
       "   0.4955607056617737,\n",
       "   0.6644071340560913,\n",
       "   0.6578807234764099,\n",
       "   0.6746957898139954,\n",
       "   0.6826174855232239,\n",
       "   0.9999996423721313,\n",
       "   0.7218232750892639,\n",
       "   0.6153052449226379,\n",
       "   0.6146332025527954,\n",
       "   0.6438013315200806,\n",
       "   0.5858286023139954,\n",
       "   0.5982457995414734,\n",
       "   1.000000238418579,\n",
       "   0.672705352306366,\n",
       "   0.6472417116165161,\n",
       "   0.7336524724960327,\n",
       "   0.6812138557434082,\n",
       "   0.6822936534881592,\n",
       "   0.6387921571731567,\n",
       "   0.5118755102157593,\n",
       "   0.5821818113327026,\n",
       "   1.0,\n",
       "   0.6245966553688049,\n",
       "   0.7661259174346924,\n",
       "   0.50175541639328,\n",
       "   0.6265211701393127,\n",
       "   0.8947324752807617,\n",
       "   0.6861444711685181,\n",
       "   0.9371755123138428,\n",
       "   0.6472474932670593,\n",
       "   0.5924639105796814,\n",
       "   0.5732221603393555,\n",
       "   0.7044886350631714,\n",
       "   1.000000238418579,\n",
       "   0.6407907605171204,\n",
       "   0.6848832368850708,\n",
       "   0.7018922567367554,\n",
       "   0.685137927532196,\n",
       "   0.6966654658317566,\n",
       "   0.723560094833374,\n",
       "   0.901068925857544,\n",
       "   0.7902723550796509,\n",
       "   0.6255569458007812,\n",
       "   0.7637507915496826,\n",
       "   0.7544674873352051,\n",
       "   0.5246496796607971,\n",
       "   0.6125751733779907,\n",
       "   0.7285532355308533,\n",
       "   0.6192097663879395,\n",
       "   0.7131560444831848,\n",
       "   0.5609848499298096,\n",
       "   0.6404508948326111,\n",
       "   0.6325852870941162,\n",
       "   0.6954444646835327,\n",
       "   0.549316942691803,\n",
       "   0.671007513999939,\n",
       "   0.693832516670227,\n",
       "   0.7317430377006531,\n",
       "   0.6896547675132751,\n",
       "   0.7419961094856262,\n",
       "   1.0000004768371582,\n",
       "   0.7881187796592712,\n",
       "   0.5273189544677734,\n",
       "   0.7312008738517761,\n",
       "   0.772032618522644,\n",
       "   0.7622716426849365,\n",
       "   1.0,\n",
       "   0.731810986995697,\n",
       "   0.7113426923751831,\n",
       "   0.6626632213592529,\n",
       "   0.48613759875297546,\n",
       "   0.6979824900627136,\n",
       "   0.709203839302063,\n",
       "   0.7744889855384827,\n",
       "   0.9999998807907104,\n",
       "   0.9058720469474792,\n",
       "   1.000000238418579,\n",
       "   0.6744646430015564,\n",
       "   0.5345089435577393,\n",
       "   0.6823127269744873,\n",
       "   0.7095454335212708,\n",
       "   0.6571027636528015,\n",
       "   0.615693986415863,\n",
       "   0.7112865447998047,\n",
       "   0.560314953327179,\n",
       "   0.5982486009597778,\n",
       "   1.0000001192092896,\n",
       "   0.6965906023979187,\n",
       "   0.5655714869499207,\n",
       "   0.6426498293876648,\n",
       "   0.6331648230552673,\n",
       "   0.6187760829925537,\n",
       "   0.5640760064125061,\n",
       "   0.7159457206726074,\n",
       "   0.7528424263000488,\n",
       "   0.7641214728355408,\n",
       "   0.9999995231628418,\n",
       "   0.905661404132843,\n",
       "   0.6708052158355713,\n",
       "   0.6019682884216309,\n",
       "   0.6112247109413147,\n",
       "   0.650378406047821,\n",
       "   0.5753012895584106,\n",
       "   0.6860733032226562,\n",
       "   0.6563870906829834,\n",
       "   0.9064182639122009,\n",
       "   0.7215250730514526,\n",
       "   0.5659155249595642,\n",
       "   0.7092755436897278,\n",
       "   0.6827856302261353],\n",
       "  'hashcode': 'microsoft/deberta-base_L9_no-idf_version=0.3.12(hug_trans=4.29.2)'}}"
      ]
     },
     "execution_count": 38,
     "metadata": {},
     "output_type": "execute_result"
    }
   ],
   "source": [
    "test_metrics = utils.bert.compute_metrics(\n",
    "    test_predictions[\"start_logits\"],\n",
    "    test_predictions[\"end_logits\"],\n",
    "    test_dataset,\n",
    "    raw_test,\n",
    ")\n",
    "test_metrics"
   ]
  },
  {
   "cell_type": "code",
   "execution_count": 39,
   "metadata": {},
   "outputs": [],
   "source": [
    "test_predictions = question_answerer(question=raw_test[\"question\"], context=raw_test[\"context\"])\n",
    "\n",
    "test_predicted_answers = [prediction[\"answer\"] for prediction in test_predictions]\n",
    "test_expected_answers = [answer[\"text\"][0] for answer in raw_test[\"answers\"]]"
   ]
  },
  {
   "cell_type": "code",
   "execution_count": null,
   "metadata": {},
   "outputs": [],
   "source": [
    "# utils.write_results(\"../data/results/bert/test.csv\", [{\n",
    "#     \"prediction\": prediction.strip(),\n",
    "#     \"completion\": completion.strip()\n",
    "# } for prediction, completion in zip(test_predicted_answers, test_expected_answers)])"
   ]
  }
 ],
 "metadata": {
  "kernelspec": {
   "display_name": ".venv",
   "language": "python",
   "name": "python3"
  },
  "language_info": {
   "codemirror_mode": {
    "name": "ipython",
    "version": 3
   },
   "file_extension": ".py",
   "mimetype": "text/x-python",
   "name": "python",
   "nbconvert_exporter": "python",
   "pygments_lexer": "ipython3",
   "version": "3.11.3"
  },
  "orig_nbformat": 4
 },
 "nbformat": 4,
 "nbformat_minor": 2
}
