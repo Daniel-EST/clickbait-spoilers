{
 "cells": [
  {
   "attachments": {},
   "cell_type": "markdown",
   "metadata": {},
   "source": [
    "# Clickbait Spoiler Generation using GPT-3"
   ]
  },
  {
   "cell_type": "code",
   "execution_count": 1,
   "metadata": {},
   "outputs": [],
   "source": [
    "# This is necessary to fix the imports\n",
    "import os\n",
    "import sys\n",
    "sys.path.append(os.path.abspath(os.path.join('../src')))"
   ]
  },
  {
   "cell_type": "code",
   "execution_count": 2,
   "metadata": {},
   "outputs": [],
   "source": [
    "import models.gpt3 as gpt3\n",
    "import utils.openai\n",
    "\n",
    "from prepare_data_openai import OPENAI_MODEL"
   ]
  },
  {
   "cell_type": "code",
   "execution_count": 3,
   "metadata": {},
   "outputs": [],
   "source": [
    "MODEL_ID = \"ada:ft-personal:clickbait-spoiler-2023-06-11-16-56-34\"\n",
    "OPENAI_MAX_EVAL_LEN = 20"
   ]
  },
  {
   "attachments": {},
   "cell_type": "markdown",
   "metadata": {},
   "source": [
    "## Validation"
   ]
  },
  {
   "cell_type": "code",
   "execution_count": 4,
   "metadata": {},
   "outputs": [],
   "source": [
    "validation = gpt3.read_data(\"../data/parsed/openai/validation.jsonl\")"
   ]
  },
  {
   "cell_type": "code",
   "execution_count": 5,
   "metadata": {},
   "outputs": [
    {
     "data": {
      "text/plain": [
       "0.2368816"
      ]
     },
     "execution_count": 5,
     "metadata": {},
     "output_type": "execute_result"
    }
   ],
   "source": [
    "utils.openai.estimate_costs_fine_tune_usage(\"../data/parsed/openai/validation.jsonl\", OPENAI_MODEL)"
   ]
  },
  {
   "attachments": {},
   "cell_type": "markdown",
   "metadata": {},
   "source": [
    "Predicting"
   ]
  },
  {
   "cell_type": "code",
   "execution_count": 6,
   "metadata": {},
   "outputs": [],
   "source": [
    "# for val in validation:\n",
    "#     val[\"prediction\"] = gpt3.predict([val[\"prompt\"]], MODEL_ID, sleep_time=1.2)[0][0]"
   ]
  },
  {
   "cell_type": "code",
   "execution_count": 7,
   "metadata": {},
   "outputs": [],
   "source": [
    "import utils\n",
    "# utils.write_results(\"../data/results/openai/validation.csv\", validation)"
   ]
  },
  {
   "cell_type": "code",
   "execution_count": 8,
   "metadata": {},
   "outputs": [],
   "source": [
    "validation = utils.read_results(\"../data/results/openai/validation.csv\")"
   ]
  },
  {
   "attachments": {},
   "cell_type": "markdown",
   "metadata": {},
   "source": [
    "Evaluation"
   ]
  },
  {
   "cell_type": "code",
   "execution_count": 9,
   "metadata": {},
   "outputs": [
    {
     "name": "stderr",
     "output_type": "stream",
     "text": [
      "/Users/ddsantos/Coding/projects/clickbait-spoiler/.venv/lib/python3.11/site-packages/tqdm/auto.py:21: TqdmWarning: IProgress not found. Please update jupyter and ipywidgets. See https://ipywidgets.readthedocs.io/en/stable/user_install.html\n",
      "  from .autonotebook import tqdm as notebook_tqdm\n",
      "[nltk_data] Downloading package wordnet to\n",
      "[nltk_data]     /Users/ddsantos/nltk_data...\n",
      "[nltk_data]   Package wordnet is already up-to-date!\n",
      "[nltk_data] Downloading package punkt to /Users/ddsantos/nltk_data...\n",
      "[nltk_data]   Package punkt is already up-to-date!\n",
      "[nltk_data] Downloading package omw-1.4 to\n",
      "[nltk_data]     /Users/ddsantos/nltk_data...\n",
      "[nltk_data]   Package omw-1.4 is already up-to-date!\n"
     ]
    }
   ],
   "source": [
    "import evaluate\n",
    "meteor = evaluate.load(\"meteor\")\n",
    "bleu = evaluate.load(\"bleu\")\n",
    "bertscore = evaluate.load(\"bertscore\")"
   ]
  },
  {
   "attachments": {},
   "cell_type": "markdown",
   "metadata": {},
   "source": [
    "Total"
   ]
  },
  {
   "cell_type": "code",
   "execution_count": 10,
   "metadata": {},
   "outputs": [
    {
     "name": "stdout",
     "output_type": "stream",
     "text": [
      "Meteor: 0.3800449631079426\n",
      "BLEU-4: 0.3316278882234632\n",
      "BERTscore Mean F1: 0.8889159325397376\n"
     ]
    }
   ],
   "source": [
    "meteor_results = meteor.compute(predictions=[ val[\"prediction\"] for val in validation ], references=[ val[\"completion\"] for val in validation ])\n",
    "bleu_results = bleu.compute(predictions=[ val[\"prediction\"] for val in validation ], references=[ val[\"completion\"] for val in validation ])\n",
    "bertscore_results = bertscore.compute(predictions=[ val[\"prediction\"] for val in validation ], references=[ val[\"completion\"] for val in validation ], lang=\"en\")\n",
    "\n",
    "print(f\"Meteor: {meteor_results['meteor']}\\nBLEU-4: {bleu_results['bleu']}\\nBERTscore Mean F1: {sum(bertscore_results['f1'])/len(bertscore_results['f1'])}\")"
   ]
  },
  {
   "attachments": {},
   "cell_type": "markdown",
   "metadata": {},
   "source": [
    "Phrase"
   ]
  },
  {
   "cell_type": "code",
   "execution_count": 11,
   "metadata": {},
   "outputs": [
    {
     "name": "stdout",
     "output_type": "stream",
     "text": [
      "Meteor: 0.4438928251692932\n",
      "BLEU-4: 0.03932456483142731\n",
      "BERTscore Mean F1: 0.9037742036492077\n"
     ]
    }
   ],
   "source": [
    "validation_phrase = list(filter(lambda x: x[\"type\"]==\"phrase\", validation))\n",
    "\n",
    "meteor_results = meteor.compute(predictions=[ val[\"prediction\"] for val in validation_phrase ], references=[ val[\"completion\"] for val in validation_phrase ])\n",
    "bleu_results = bleu.compute(predictions=[ val[\"prediction\"] for val in validation_phrase ], references=[ val[\"completion\"] for val in validation_phrase ])\n",
    "bertscore_results = bertscore.compute(predictions=[ val[\"prediction\"] for val in validation_phrase ], references=[ val[\"completion\"] for val in validation_phrase ], lang=\"en\")\n",
    "\n",
    "print(f\"Meteor: {meteor_results['meteor']}\\nBLEU-4: {bleu_results['bleu']}\\nBERTscore Mean F1: {sum(bertscore_results['f1'])/len(bertscore_results['f1'])}\")"
   ]
  },
  {
   "attachments": {},
   "cell_type": "markdown",
   "metadata": {},
   "source": [
    "Passage"
   ]
  },
  {
   "cell_type": "code",
   "execution_count": 12,
   "metadata": {},
   "outputs": [
    {
     "name": "stdout",
     "output_type": "stream",
     "text": [
      "Meteor: 0.30812061937505264\n",
      "BLEU-4: 0.22363759309880255\n",
      "BERTscore Mean F1: 0.8730579776528441\n"
     ]
    }
   ],
   "source": [
    "validation_passage = list(filter(lambda x: x[\"type\"]==\"passage\", validation))\n",
    "\n",
    "meteor_results = meteor.compute(predictions=[ val[\"prediction\"] for val in validation_passage ], references=[ val[\"completion\"] for val in validation_passage ])\n",
    "bleu_results = bleu.compute(predictions=[ val[\"prediction\"] for val in validation_passage ], references=[ val[\"completion\"] for val in validation_passage ])\n",
    "bertscore_results = bertscore.compute(predictions=[ val[\"prediction\"] for val in validation_passage ], references=[ val[\"completion\"] for val in validation_passage ], lang=\"en\")\n",
    "\n",
    "print(f\"Meteor: {meteor_results['meteor']}\\nBLEU-4: {bleu_results['bleu']}\\nBERTscore Mean F1: {sum(bertscore_results['f1'])/len(bertscore_results['f1'])}\")"
   ]
  },
  {
   "attachments": {},
   "cell_type": "markdown",
   "metadata": {},
   "source": [
    "Multi"
   ]
  },
  {
   "cell_type": "code",
   "execution_count": 13,
   "metadata": {},
   "outputs": [
    {
     "name": "stdout",
     "output_type": "stream",
     "text": [
      "Meteor: 0.4110062647930146\n",
      "BLEU-4: 0.529826208234148\n",
      "BERTscore Mean F1: 0.8946957504749298\n"
     ]
    }
   ],
   "source": [
    "validation_multi = list(filter(lambda x: x[\"type\"]==\"multi\", validation))\n",
    "\n",
    "meteor_results = meteor.compute(predictions=[ val[\"prediction\"] for val in validation_multi ], references=[ val[\"completion\"] for val in validation_multi ])\n",
    "bleu_results = bleu.compute(predictions=[ val[\"prediction\"] for val in validation_multi ], references=[ val[\"completion\"] for val in validation_multi ])\n",
    "bertscore_results = bertscore.compute(predictions=[ val[\"prediction\"] for val in validation_multi ], references=[ val[\"completion\"] for val in validation_multi ], lang=\"en\")\n",
    "\n",
    "print(f\"Meteor: {meteor_results['meteor']}\\nBLEU-4: {bleu_results['bleu']}\\nBERTscore Mean F1: {sum(bertscore_results['f1'])/len(bertscore_results['f1'])}\")"
   ]
  },
  {
   "attachments": {},
   "cell_type": "markdown",
   "metadata": {},
   "source": [
    "## Test"
   ]
  },
  {
   "cell_type": "code",
   "execution_count": 14,
   "metadata": {},
   "outputs": [],
   "source": [
    "test = gpt3.read_data(\"../data/parsed/openai/test.jsonl\")"
   ]
  },
  {
   "cell_type": "code",
   "execution_count": 15,
   "metadata": {},
   "outputs": [
    {
     "data": {
      "text/plain": [
       "0.6292256"
      ]
     },
     "execution_count": 15,
     "metadata": {},
     "output_type": "execute_result"
    }
   ],
   "source": [
    "utils.openai.estimate_costs_fine_tune_usage(\"../data/parsed/openai/test.jsonl\", OPENAI_MODEL)"
   ]
  },
  {
   "attachments": {},
   "cell_type": "markdown",
   "metadata": {},
   "source": [
    "Predicting"
   ]
  },
  {
   "cell_type": "code",
   "execution_count": 16,
   "metadata": {},
   "outputs": [],
   "source": [
    "# for t in test:\n",
    "#     t[\"prediction\"] = gpt3.predict([t[\"prompt\"]], MODEL_ID, sleep_time=1.2)[0][0]"
   ]
  },
  {
   "cell_type": "code",
   "execution_count": 17,
   "metadata": {},
   "outputs": [],
   "source": [
    "# utils.write_results(\"../data/results/openai/test.csv\", test)"
   ]
  },
  {
   "cell_type": "code",
   "execution_count": 18,
   "metadata": {},
   "outputs": [],
   "source": [
    "test = utils.read_results(\"../data/results/openai/test.csv\")"
   ]
  },
  {
   "attachments": {},
   "cell_type": "markdown",
   "metadata": {},
   "source": [
    "Evaluation"
   ]
  },
  {
   "attachments": {},
   "cell_type": "markdown",
   "metadata": {},
   "source": [
    "Total"
   ]
  },
  {
   "cell_type": "code",
   "execution_count": 19,
   "metadata": {},
   "outputs": [
    {
     "name": "stdout",
     "output_type": "stream",
     "text": [
      "Meteor: 0.3748973172668995\n",
      "BLEU-4: 0.23299473243685423\n",
      "BERTscore Mean F1: 0.8906126411452245\n"
     ]
    }
   ],
   "source": [
    "meteor_results = meteor.compute(predictions=[ t[\"prediction\"] for t in test ], references=[ t[\"completion\"] for t in test ])\n",
    "bleu_results = bleu.compute(predictions=[ t[\"prediction\"] for t in test ], references=[ t[\"completion\"] for t in test ])\n",
    "bertscore_results = bertscore.compute(predictions=[ t[\"prediction\"] for t in test ], references=[ t[\"completion\"] for t in test ], lang=\"en\")\n",
    "\n",
    "print(f\"Meteor: {meteor_results['meteor']}\\nBLEU-4: {bleu_results['bleu']}\\nBERTscore Mean F1: {sum(bertscore_results['f1'])/len(bertscore_results['f1'])}\")"
   ]
  },
  {
   "cell_type": "code",
   "execution_count": 20,
   "metadata": {},
   "outputs": [
    {
     "name": "stdout",
     "output_type": "stream",
     "text": [
      "Meteor: 0.4578975768614709\n",
      "BLEU-4: 0.061002572768710336\n",
      "BERTscore Mean F1: 0.9107595882309016\n"
     ]
    }
   ],
   "source": [
    "test_phrase = list(filter(lambda x: x[\"type\"]==\"phrase\", test))\n",
    "\n",
    "meteor_results = meteor.compute(predictions=[ t[\"prediction\"] for t in test_phrase ], references=[ t[\"completion\"] for t in test_phrase ])\n",
    "bleu_results = bleu.compute(predictions=[ t[\"prediction\"] for t in test_phrase ], references=[ t[\"completion\"] for t in test_phrase ])\n",
    "bertscore_results = bertscore.compute(predictions=[ t[\"prediction\"] for t in test_phrase ], references=[ t[\"completion\"] for t in test_phrase ], lang=\"en\")\n",
    "\n",
    "print(f\"Meteor: {meteor_results['meteor']}\\nBLEU-4: {bleu_results['bleu']}\\nBERTscore Mean F1: {sum(bertscore_results['f1'])/len(bertscore_results['f1'])}\")"
   ]
  },
  {
   "cell_type": "code",
   "execution_count": 21,
   "metadata": {},
   "outputs": [
    {
     "name": "stdout",
     "output_type": "stream",
     "text": [
      "Meteor: 0.2828155192860309\n",
      "BLEU-4: 0.20985733289455827\n",
      "BERTscore Mean F1: 0.8703298328823074\n"
     ]
    }
   ],
   "source": [
    "test_passage = list(filter(lambda x: x[\"type\"]==\"passage\", test))\n",
    "\n",
    "meteor_results = meteor.compute(predictions=[ t[\"prediction\"] for t in test_passage ], references=[ t[\"completion\"] for t in test_passage ])\n",
    "bleu_results = bleu.compute(predictions=[ t[\"prediction\"] for t in test_passage ], references=[ t[\"completion\"] for t in test_passage ])\n",
    "bertscore_results = bertscore.compute(predictions=[ t[\"prediction\"] for t in test_passage ], references=[ t[\"completion\"] for t in test_passage ], lang=\"en\")\n",
    "\n",
    "print(f\"Meteor: {meteor_results['meteor']}\\nBLEU-4: {bleu_results['bleu']}\\nBERTscore Mean F1: {sum(bertscore_results['f1'])/len(bertscore_results['f1'])}\")"
   ]
  },
  {
   "cell_type": "code",
   "execution_count": 22,
   "metadata": {},
   "outputs": [
    {
     "name": "stdout",
     "output_type": "stream",
     "text": [
      "Meteor: 0.37433434675124583\n",
      "BLEU-4: 0.3864844930392026\n",
      "BERTscore Mean F1: 0.8851155984786249\n"
     ]
    }
   ],
   "source": [
    "test_multi = list(filter(lambda x: x[\"type\"]==\"multi\", test))\n",
    "\n",
    "meteor_results = meteor.compute(predictions=[ t[\"prediction\"] for t in test_multi ], references=[ t[\"completion\"] for t in test_multi ])\n",
    "bleu_results = bleu.compute(predictions=[ t[\"prediction\"] for t in test_multi ], references=[ t[\"completion\"] for t in test_multi ])\n",
    "bertscore_results = bertscore.compute(predictions=[ t[\"prediction\"] for t in test_multi ], references=[ t[\"completion\"] for t in test_multi ], lang=\"en\")\n",
    "\n",
    "print(f\"Meteor: {meteor_results['meteor']}\\nBLEU-4: {bleu_results['bleu']}\\nBERTscore Mean F1: {sum(bertscore_results['f1'])/len(bertscore_results['f1'])}\")"
   ]
  },
  {
   "attachments": {},
   "cell_type": "markdown",
   "metadata": {},
   "source": [
    "# Clickbait Spoiler Generation using LLaMa"
   ]
  },
  {
   "cell_type": "code",
   "execution_count": 23,
   "metadata": {},
   "outputs": [],
   "source": [
    "# !python ../src/models/llama/alpaca-lora/generate.py \\\n",
    "#     --load_8bit \\\n",
    "#     --base_model $MODEL_CHECKPOINT  \\\n",
    "#     --lora_weights $SAVE_CHECKPOINT_PATH"
   ]
  },
  {
   "cell_type": "code",
   "execution_count": 24,
   "metadata": {},
   "outputs": [],
   "source": [
    "# utils.write_results(\"../data/results/validation.csv\", validation)"
   ]
  },
  {
   "attachments": {},
   "cell_type": "markdown",
   "metadata": {},
   "source": [
    "# Clickbait Spoiler Generation using BERT"
   ]
  },
  {
   "cell_type": "code",
   "execution_count": 25,
   "metadata": {},
   "outputs": [],
   "source": [
    "BATCH_SIZE = 3\n",
    "SAVE_CHECKPOINT_PATH = \"../src/models/bert/clickbait\""
   ]
  },
  {
   "cell_type": "code",
   "execution_count": 26,
   "metadata": {},
   "outputs": [],
   "source": [
    "from utils.bert import TOKENIZER\n",
    "from transformers import TFAutoModelForQuestionAnswering\n",
    "\n",
    "model = TFAutoModelForQuestionAnswering.from_pretrained(SAVE_CHECKPOINT_PATH)"
   ]
  },
  {
   "cell_type": "code",
   "execution_count": 27,
   "metadata": {},
   "outputs": [],
   "source": [
    "from datasets import load_dataset\n",
    "\n",
    "raw_datasets = load_dataset(\"../data/parsed/bert/clickbait_data.py\", data_files={\n",
    "    \"train\": \"train.jsonl\", \n",
    "    \"test\": \"test.jsonl\", \n",
    "    \"validation\": \"validation.jsonl\"\n",
    "})"
   ]
  },
  {
   "attachments": {},
   "cell_type": "markdown",
   "metadata": {},
   "source": [
    "## Validation"
   ]
  },
  {
   "cell_type": "code",
   "execution_count": 28,
   "metadata": {},
   "outputs": [],
   "source": [
    "import utils.bert\n",
    "\n",
    "raw_validation = raw_datasets[\"validation\"].filter(lambda x: x[\"type\"]==\"phrase\")\n",
    "validation_dataset = raw_validation.map(\n",
    "    utils.bert.preprocess_validation,\n",
    "    batched=True,\n",
    "    remove_columns=raw_validation.column_names,\n",
    ")\n",
    "len(raw_validation), len(validation_dataset)"
   ]
  },
  {
   "cell_type": "code",
   "execution_count": 29,
   "metadata": {},
   "outputs": [],
   "source": [
    "from transformers import DefaultDataCollator\n",
    "data_collator = DefaultDataCollator(return_tensors=\"tf\")\n",
    "\n",
    "tf_val_dataset = model.prepare_tf_dataset(\n",
    "    validation_dataset,\n",
    "    collate_fn=data_collator,\n",
    "    shuffle=False,\n",
    "    batch_size=BATCH_SIZE\n",
    ")"
   ]
  },
  {
   "attachments": {},
   "cell_type": "markdown",
   "metadata": {},
   "source": [
    "Predicting"
   ]
  },
  {
   "cell_type": "code",
   "execution_count": 30,
   "metadata": {},
   "outputs": [],
   "source": [
    "val_predictions = model.predict(tf_val_dataset)"
   ]
  },
  {
   "cell_type": "code",
   "execution_count": 31,
   "metadata": {},
   "outputs": [],
   "source": [
    "val_metrics = utils.bert.compute_metrics(\n",
    "    val_predictions[\"start_logits\"],\n",
    "    val_predictions[\"end_logits\"],\n",
    "    validation_dataset,\n",
    "    raw_validation,\n",
    ")\n",
    "val_metrics"
   ]
  },
  {
   "cell_type": "code",
   "execution_count": 32,
   "metadata": {},
   "outputs": [],
   "source": [
    "from transformers import pipeline\n",
    "question_answerer = pipeline(\"question-answering\", model=SAVE_CHECKPOINT_PATH, tokenizer=TOKENIZER)"
   ]
  },
  {
   "cell_type": "code",
   "execution_count": 33,
   "metadata": {},
   "outputs": [],
   "source": [
    "val_predictions = question_answerer(question=raw_validation[\"question\"], context=raw_validation[\"context\"])\n",
    "\n",
    "val_predicted_answers = [prediction[\"answer\"] for prediction in val_predictions]\n",
    "val_expected_answers = [answer[\"text\"][0] for answer in raw_validation[\"answers\"]]"
   ]
  },
  {
   "cell_type": "code",
   "execution_count": 34,
   "metadata": {},
   "outputs": [],
   "source": [
    "utils.write_results(\"../data/results/bert/validation.csv\", [{\n",
    "    \"prediction\": prediction,\n",
    "    \"completion\": completion\n",
    "} for prediction, completion in zip(val_predicted_answers, val_expected_answers)])"
   ]
  },
  {
   "attachments": {},
   "cell_type": "markdown",
   "metadata": {},
   "source": [
    "## Test"
   ]
  },
  {
   "cell_type": "code",
   "execution_count": 35,
   "metadata": {},
   "outputs": [],
   "source": [
    "raw_test = raw_datasets[\"test\"].filter(lambda x: x[\"type\"]==\"phrase\")\n",
    "test_dataset = raw_test.map(\n",
    "    utils.bert.preprocess_validation,\n",
    "    batched=True,\n",
    "    remove_columns=raw_test.column_names,\n",
    ")\n",
    "len(raw_test), len(test_dataset)"
   ]
  },
  {
   "cell_type": "code",
   "execution_count": 36,
   "metadata": {},
   "outputs": [],
   "source": [
    "tf_test_dataset = model.prepare_tf_dataset(\n",
    "    test_dataset,\n",
    "    collate_fn=data_collator,\n",
    "    shuffle=False,\n",
    "    batch_size=BATCH_SIZE\n",
    ")"
   ]
  },
  {
   "attachments": {},
   "cell_type": "markdown",
   "metadata": {},
   "source": [
    "Predicting"
   ]
  },
  {
   "cell_type": "code",
   "execution_count": 37,
   "metadata": {},
   "outputs": [],
   "source": [
    "test_predictions = model.predict(tf_test_dataset)"
   ]
  },
  {
   "cell_type": "code",
   "execution_count": 38,
   "metadata": {},
   "outputs": [],
   "source": [
    "test_metrics = utils.bert.compute_metrics(\n",
    "    test_predictions[\"start_logits\"],\n",
    "    test_predictions[\"end_logits\"],\n",
    "    test_dataset,\n",
    "    raw_test,\n",
    ")\n",
    "test_metrics"
   ]
  },
  {
   "cell_type": "code",
   "execution_count": 39,
   "metadata": {},
   "outputs": [],
   "source": [
    "test_predictions = question_answerer(question=raw_test[\"question\"], context=raw_test[\"context\"])\n",
    "\n",
    "test_predicted_answers = [prediction[\"answer\"] for prediction in test_predictions]\n",
    "test_expected_answers = [answer[\"text\"][0] for answer in raw_test[\"answers\"]]"
   ]
  },
  {
   "cell_type": "code",
   "execution_count": 40,
   "metadata": {},
   "outputs": [],
   "source": [
    "utils.write_results(\"../data/results/bert/test.csv\", [{\n",
    "    \"prediction\": prediction,\n",
    "    \"completion\": completion\n",
    "} for prediction, completion in zip(test_predicted_answers, test_expected_answers)])"
   ]
  }
 ],
 "metadata": {
  "kernelspec": {
   "display_name": ".venv",
   "language": "python",
   "name": "python3"
  },
  "language_info": {
   "codemirror_mode": {
    "name": "ipython",
    "version": 3
   },
   "file_extension": ".py",
   "mimetype": "text/x-python",
   "name": "python",
   "nbconvert_exporter": "python",
   "pygments_lexer": "ipython3",
   "version": "3.11.3"
  },
  "orig_nbformat": 4
 },
 "nbformat": 4,
 "nbformat_minor": 2
}
