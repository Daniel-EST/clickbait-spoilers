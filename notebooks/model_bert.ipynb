{
 "cells": [
  {
   "attachments": {},
   "cell_type": "markdown",
   "metadata": {},
   "source": [
    "# Clickbait Spoiler Generation using BERT"
   ]
  },
  {
   "cell_type": "code",
   "execution_count": null,
   "metadata": {},
   "outputs": [],
   "source": [
    "# This is necessary to fix the imports\n",
    "import os\n",
    "import sys\n",
    "sys.path.append(os.path.abspath(os.path.join('../src')))"
   ]
  },
  {
   "cell_type": "code",
   "execution_count": null,
   "metadata": {},
   "outputs": [],
   "source": [
    "import numpy as np\n",
    "import tensorflow as tf\n",
    "tf.config.list_physical_devices(\"GPU\")"
   ]
  },
  {
   "cell_type": "code",
   "execution_count": null,
   "metadata": {},
   "outputs": [],
   "source": [
    "BATCH_SIZE = 3\n",
    "N_EPOCHS = 5\n",
    "LEARNING_RATE = 2e-5\n",
    "MAX_LEN = 512"
   ]
  },
  {
   "cell_type": "code",
   "execution_count": null,
   "metadata": {},
   "outputs": [],
   "source": [
    "from transformers import TFDistilBertForQuestionAnswering, DistilBertTokenizer"
   ]
  },
  {
   "cell_type": "code",
   "execution_count": null,
   "metadata": {},
   "outputs": [],
   "source": [
    "PRE_TRAINED_MODEL_NAME = \"distilbert-base-uncased-distilled-squad\"\n",
    "model = TFDistilBertForQuestionAnswering.from_pretrained(PRE_TRAINED_MODEL_NAME)\n",
    "tokenizer = DistilBertTokenizer.from_pretrained(PRE_TRAINED_MODEL_NAME)"
   ]
  },
  {
   "cell_type": "code",
   "execution_count": null,
   "metadata": {},
   "outputs": [],
   "source": [
    "# import jsonlines\n",
    "# def data_generator(input_path: str) -> None:\n",
    "#     with jsonlines.open(input_path, \"r\") as reader:\n",
    "#         for line in reader:\n",
    "#             x = tokenizer.encode_plus(line[\"clickbait\"], line[\"text\"], return_tensors=\"tf\", padding=\"max_length\", max_length=MAX_LEN, truncation=\"only_second\")\n",
    "#             y = tokenizer.encode_plus(line[\"spoiler\"], return_tensors=\"tf\", padding=\"max_length\", max_length=MAX_LEN, truncation=True)\n",
    "#             yield tf.concat([x[\"input_ids\"], x[\"attention_mask\"]], axis=0), tf.concat([y[\"input_ids\"], y[\"attention_mask\"]], axis=0)"
   ]
  },
  {
   "cell_type": "code",
   "execution_count": null,
   "metadata": {},
   "outputs": [],
   "source": [
    "# train_data = tf.data.Dataset.from_generator(\n",
    "#     lambda: data_generator(\"../data/parsed/bert/train.jsonl\"),\n",
    "#     output_types = tf.int64\n",
    "# ).batch(BATCH_SIZE)\n",
    "\n",
    "# test_data = tf.data.Dataset.from_generator(\n",
    "#     lambda: data_generator(\"../data/parsed/bert/test.jsonl\"),\n",
    "#     output_types = (tf.int64, tf.int64)\n",
    "# ).batch(BATCH_SIZE)\n",
    "\n",
    "# val_data = tf.data.Dataset.from_generator(\n",
    "#     lambda: data_generator(\"../data/parsed/bert/validation.jsonl\"),\n",
    "#     output_types = (tf.int64, tf.int64)\n",
    "# ).batch(BATCH_SIZE)"
   ]
  },
  {
   "cell_type": "code",
   "execution_count": null,
   "metadata": {},
   "outputs": [],
   "source": [
    "callbacks = [\n",
    "    tf.keras.callbacks.ModelCheckpoint(filepath=\"../src/models/bert/checkpoints/model.{epoch:02d}_{accuracy:.2f}-{loss:.2f}_{val_accuracy:.2f}-{val_loss:.2f}.h5\"),\n",
    "    tf.keras.callbacks.TensorBoard(log_dir=\"../src/models/bert/logs\")\n",
    "]"
   ]
  },
  {
   "cell_type": "code",
   "execution_count": null,
   "metadata": {},
   "outputs": [],
   "source": [
    "adam = tf.keras.optimizers.Adam(learning_rate=LEARNING_RATE)\n",
    "model.compile(optimizer=adam, loss=None)"
   ]
  },
  {
   "cell_type": "code",
   "execution_count": null,
   "metadata": {},
   "outputs": [],
   "source": [
    "# all_tokens = tokenizer.convert_ids_to_tokens(list(train_data.take(1))[0][0][0][0])\n",
    "# answer = ' '.join(all_tokens[tf.math.argmax(pred[\"start_logits\"], 1)[0] : tf.math.argmax(pred[\"end_logits\"], 1)[0]+1])\n",
    "# answer"
   ]
  },
  {
   "cell_type": "code",
   "execution_count": null,
   "metadata": {},
   "outputs": [],
   "source": [
    "history = model.fit(\n",
    "    x=train_data,\n",
    "    validation_data=val_data,\n",
    "    epochs=N_EPOCHS,\n",
    "    verbose=1,\n",
    "    callbacks=callbacks\n",
    ")"
   ]
  },
  {
   "cell_type": "code",
   "execution_count": null,
   "metadata": {},
   "outputs": [],
   "source": [
    "clickbait = \"\"\"CLICKBAIT:\\n\\nA woman who interviewed over 100 people at Goldman Sachs says there's one question she always hoped candidates would ask her, but they never did\\n\\n\\nARTICLE:\\n\\nAt some point toward the end of every job interview, the hiring manager will likely turn the tables and ask, \\\"Do you have any questions for me?\\\"\\nThis is the time to ask smart, thoughtful questions — perhaps your final opportunity to assess whether the job would be a good fit, and your final chance to impress the hiring manager.\\nBusiness Insider recently spoke with Becca Brown, cofounder of Solemates, a brand of women's shoe-care products, who knows a thing or two about interviewing.\\nBefore launching her own business, Brown, who has a bachelor's from Harvard University and an MBA from Columbia, spent a lot of time interviewing job candidates at Goldman Sachs, where she held various roles, including analyst, wealth adviser, and chief of staff.\\nShe was also part of the investment bank's Harvard recruiting team, she says.\\n\\\"I interviewed anywhere from 20 to 30 job candidates a year, so in total, I interviewed over 100 people at Goldman Sachs,\\\" she tells Business Insider.\\nShe says that candidates asked her some impressive questions — like \\\"What's the most challenging part of your job?\\\" and \\\"What's one of the most interesting projects you've worked on?\\\" — but there was one question she always hoped she'd be asked, but almost never was: \\\"Where do you see yourself in five years?\\\"\\n\\\"I like this question — and yet no one ever asked it — because it's difficult to answer,\\\" she says. \\\"It's an important question for anyone to be asking him or herself, and so if ever a candidate were to ask this question, it would have stood out.\\\"\\nShe continues:\\nI think this is a good question for interviewees to ask because, as a candidate, if you see where the person interviewing you is headed, you can decide if that trajectory is in line with your career objectives. While they don't have to be completely correlated, it's helpful for the candidate to have some indication of the interviewer's direction.\\nGet the latest Goldman Sachs stock price here.\\n\\n###\\n\\n\"\"\""
   ]
  },
  {
   "cell_type": "code",
   "execution_count": null,
   "metadata": {},
   "outputs": [],
   "source": [
    "expected = \"\"\"\\\"Where do you see yourself in five years?\\\"\"\"\""
   ]
  },
  {
   "cell_type": "code",
   "execution_count": null,
   "metadata": {},
   "outputs": [],
   "source": [
    "prediction = model.predict(clickbait)\n",
    "b = model.predict(tf.concat([input_[\"input_ids\"], input_[\"input_ids\"]], 0))"
   ]
  },
  {
   "cell_type": "code",
   "execution_count": null,
   "metadata": {},
   "outputs": [],
   "source": [
    "all_tokens = tokenizer.convert_ids_to_tokens(input_[\"input_ids\"].numpy()[0])\n",
    "answer = ' '.join(all_tokens[tf.math.argmax(result[0], 1)[0] : tf.math.argmax(result[1], 1)[0]+1])"
   ]
  },
  {
   "cell_type": "code",
   "execution_count": null,
   "metadata": {},
   "outputs": [],
   "source": [
    "import evaluate\n",
    "meteor = evaluate.load(\"meteor\")\n",
    "bleu = evaluate.load(\"bleu\")\n",
    "bertscore = evaluate.load(\"bertscore\")"
   ]
  },
  {
   "cell_type": "code",
   "execution_count": null,
   "metadata": {},
   "outputs": [],
   "source": [
    "bertscore_results = bertscore.compute(predictions=prediction, references=[expected], lang=\"en\")\n",
    "meteor_results = meteor.compute(predictions=prediction, references=[expected])\n",
    "bleu_results = bleu.compute(predictions=prediction, references=[expected])"
   ]
  },
  {
   "cell_type": "code",
   "execution_count": null,
   "metadata": {},
   "outputs": [],
   "source": [
    "print(f\"{clickbait}Expected Spoiler: {expected};\\n\\nSpoiler Predicted: {prediction[0]};\\n\\n###\\n\\n\")\n",
    "print(f\"Meteor: {meteor_results['meteor']}\\nBLEU-4: {bleu_results['bleu']}\\nBERTscore Mean F1: {sum(bertscore_results['f1'])/len(bertscore_results['f1'])}\")"
   ]
  },
  {
   "cell_type": "code",
   "execution_count": null,
   "metadata": {},
   "outputs": [],
   "source": [
    "model.save(\"../src/models/bert/clickbait-spoiler.h5\")"
   ]
  }
 ],
 "metadata": {
  "kernelspec": {
   "display_name": "tensorflow-gpu",
   "language": "python",
   "name": "tensorflow-gpu"
  },
  "language_info": {
   "codemirror_mode": {
    "name": "ipython",
    "version": 3
   },
   "file_extension": ".py",
   "mimetype": "text/x-python",
   "name": "python",
   "nbconvert_exporter": "python",
   "pygments_lexer": "ipython3",
   "version": "3.9.13"
  },
  "orig_nbformat": 4
 },
 "nbformat": 4,
 "nbformat_minor": 2
}
