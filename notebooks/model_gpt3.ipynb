{
 "cells": [
  {
   "attachments": {},
   "cell_type": "markdown",
   "metadata": {},
   "source": [
    "# Clickbait Spoiler Generation using GPT-3"
   ]
  },
  {
   "cell_type": "code",
   "execution_count": null,
   "metadata": {},
   "outputs": [],
   "source": [
    "# This is necessary to fix the imports\n",
    "import os\n",
    "import sys\n",
    "sys.path.append(os.path.abspath(os.path.join('../src')))"
   ]
  },
  {
   "attachments": {},
   "cell_type": "markdown",
   "metadata": {},
   "source": [
    "Preparing the data using a custom function and validating it using the openai preparation tool"
   ]
  },
  {
   "cell_type": "code",
   "execution_count": null,
   "metadata": {},
   "outputs": [],
   "source": [
    "TRAIN_DATA = \"../data/parsed/openai/train.jsonl\"\n",
    "VALIDATION_DATA = \"../data/parsed/openai/validation.jsonl\""
   ]
  },
  {
   "cell_type": "code",
   "execution_count": null,
   "metadata": {},
   "outputs": [],
   "source": [
    "from data_parser import OPENAI_MAX_TOKENS_COMPLETION, OPENAI_END_OF_COMPLETION\n",
    "from prepare_data_openai import OPENAI_MODEL"
   ]
  },
  {
   "attachments": {},
   "cell_type": "markdown",
   "metadata": {},
   "source": [
    "### Performing the fine-tune operation"
   ]
  },
  {
   "cell_type": "code",
   "execution_count": null,
   "metadata": {},
   "outputs": [],
   "source": [
    "EPOCHS = 5\n",
    "SUFFIX = \"clickbait_spoiler\""
   ]
  },
  {
   "cell_type": "code",
   "execution_count": null,
   "metadata": {},
   "outputs": [],
   "source": [
    "import utils.openai\n",
    "utils.openai.estimate_costs_fine_tune_training(TRAIN_DATA, OPENAI_MODEL)"
   ]
  },
  {
   "cell_type": "code",
   "execution_count": null,
   "metadata": {},
   "outputs": [],
   "source": [
    "# !openai api fine_tunes.create --training_file $TRAIN_DATA --validation_file $VALIDATION_DATA --n_epochs $EPOCHS  --model $OPENAI_MODEL --sufix $SUFFIX"
   ]
  },
  {
   "cell_type": "code",
   "execution_count": null,
   "metadata": {},
   "outputs": [],
   "source": [
    "# !openai api fine_tunes.follow --id "
   ]
  },
  {
   "cell_type": "code",
   "execution_count": null,
   "metadata": {},
   "outputs": [],
   "source": [
    "# !openai api fine_tunes.cancel --id # Cancel if it gets expensive (hehe)"
   ]
  },
  {
   "attachments": {},
   "cell_type": "markdown",
   "metadata": {},
   "source": [
    "#### Testing"
   ]
  },
  {
   "cell_type": "code",
   "execution_count": null,
   "metadata": {},
   "outputs": [],
   "source": [
    "MODEL_ID = \"ada:ft-personal-2023-05-04-01-44-28\""
   ]
  },
  {
   "cell_type": "code",
   "execution_count": null,
   "metadata": {},
   "outputs": [],
   "source": [
    "clickbait = \"\"\"CLICKBAIT:\\n\\nA woman who interviewed over 100 people at Goldman Sachs says there's one question she always hoped candidates would ask her, but they never did\\n\\n\\nARTICLE:\\n\\nAt some point toward the end of every job interview, the hiring manager will likely turn the tables and ask, \\\"Do you have any questions for me?\\\"\\nThis is the time to ask smart, thoughtful questions — perhaps your final opportunity to assess whether the job would be a good fit, and your final chance to impress the hiring manager.\\nBusiness Insider recently spoke with Becca Brown, cofounder of Solemates, a brand of women's shoe-care products, who knows a thing or two about interviewing.\\nBefore launching her own business, Brown, who has a bachelor's from Harvard University and an MBA from Columbia, spent a lot of time interviewing job candidates at Goldman Sachs, where she held various roles, including analyst, wealth adviser, and chief of staff.\\nShe was also part of the investment bank's Harvard recruiting team, she says.\\n\\\"I interviewed anywhere from 20 to 30 job candidates a year, so in total, I interviewed over 100 people at Goldman Sachs,\\\" she tells Business Insider.\\nShe says that candidates asked her some impressive questions — like \\\"What's the most challenging part of your job?\\\" and \\\"What's one of the most interesting projects you've worked on?\\\" — but there was one question she always hoped she'd be asked, but almost never was: \\\"Where do you see yourself in five years?\\\"\\n\\\"I like this question — and yet no one ever asked it — because it's difficult to answer,\\\" she says. \\\"It's an important question for anyone to be asking him or herself, and so if ever a candidate were to ask this question, it would have stood out.\\\"\\nShe continues:\\nI think this is a good question for interviewees to ask because, as a candidate, if you see where the person interviewing you is headed, you can decide if that trajectory is in line with your career objectives. While they don't have to be completely correlated, it's helpful for the candidate to have some indication of the interviewer's direction.\\nGet the latest Goldman Sachs stock price here.\\n\\n###\\n\\n\"\"\""
   ]
  },
  {
   "cell_type": "code",
   "execution_count": null,
   "metadata": {},
   "outputs": [],
   "source": [
    "expected = \"\"\"\\\"Where do you see yourself in five years?\\\"\"\"\""
   ]
  },
  {
   "cell_type": "code",
   "execution_count": null,
   "metadata": {},
   "outputs": [],
   "source": [
    "import models.gpt3 as gpt3\n",
    "prediction = gpt3.predict(clickbait, MODEL_ID)"
   ]
  },
  {
   "cell_type": "code",
   "execution_count": null,
   "metadata": {},
   "outputs": [],
   "source": [
    "import evaluate\n",
    "meteor = evaluate.load(\"meteor\")\n",
    "bleu = evaluate.load(\"bleu\")\n",
    "bertscore = evaluate.load(\"bertscore\")"
   ]
  },
  {
   "cell_type": "code",
   "execution_count": null,
   "metadata": {},
   "outputs": [],
   "source": [
    "bertscore_results = bertscore.compute(predictions=prediction, references=[expected], lang=\"en\")\n",
    "meteor_results = meteor.compute(predictions=prediction, references=[expected])\n",
    "bleu_results = bleu.compute(predictions=prediction, references=[expected])"
   ]
  },
  {
   "cell_type": "code",
   "execution_count": null,
   "metadata": {},
   "outputs": [],
   "source": [
    "print(f\"{clickbait}Expected Spoiler: {expected};\\n\\nSpoiler Predicted: {prediction[0]};\\n\\n###\\n\\n\")\n",
    "print(f\"Meteor: {meteor_results['meteor']}\\nBLEU-4: {bleu_results['bleu']}\\nBERTscore Mean F1: {sum(bertscore_results['f1'])/len(bertscore_results['f1'])}\")"
   ]
  }
 ],
 "metadata": {
  "kernelspec": {
   "display_name": ".venv",
   "language": "python",
   "name": "python3"
  },
  "language_info": {
   "codemirror_mode": {
    "name": "ipython",
    "version": 3
   },
   "file_extension": ".py",
   "mimetype": "text/x-python",
   "name": "python",
   "nbconvert_exporter": "python",
   "pygments_lexer": "ipython3",
   "version": "3.11.3"
  },
  "orig_nbformat": 4
 },
 "nbformat": 4,
 "nbformat_minor": 2
}
